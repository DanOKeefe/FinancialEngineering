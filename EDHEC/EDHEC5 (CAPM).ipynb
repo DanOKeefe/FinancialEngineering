{
 "cells": [
  {
   "cell_type": "markdown",
   "metadata": {},
   "source": [
    "# Using EDHEC Risk Kit Part 5\n",
    "### Explore use of the library to:\n",
    "- Use the CAPM to determine the an appropriate return of an asset\n",
    "- Explore the coefficients in CAPM\n",
    "- Conduct factor analysis\n",
    "\n",
    "### CAPM\n",
    "- The expected return on any asset $i$ is the risk-free interest rate, $R_F$, plus a risk premium, which is the asset's market beta, $\\beta_{iM}$, times the premium per unit of beta risk, $E(R_M) - R_f$\n",
    "- $E(R_i) = R_f + \\beta_{iM}(E(R_m) - R_f)$\n",
    "    - $\\beta_{iM}$ for asset $i$ is the covariance of its return with the market return divided by the variance of the market return\n",
    "    - (Market Beta) $\\beta_{iM} = \\frac{\\text{cov}(R_i,R_M)}{\\sigma^2(R_M)}$\n",
    "    - Market beta is a risk premium\n",
    "    - Assets with a market beta of zero must have an expected return equal to the risk free rate because they doesn't contribute to the variance in the market return\n",
    "\n",
    "### CAPM assumptions\n",
    "- Expected returns for each asset is linearly related to their market betas\n",
    "- Expected return on market portfolio > expected return on assets with market beta of 0\n",
    "    - Market betas for all assets are positive\n",
    "- Assets uncorreleated with the market have expected returns equal $R_f$\n",
    "- The beta premium is equal to $E(R_m) - R_f$\n",
    "\n",
    "### Testing CAPM on market data\n",
    "- Regress average asset returns on estimates of asset betas\n",
    "- Model predicts the intercept is the riskfree rate\n",
    "- Coefficient on beta is $E(R_M)-R_f$\n",
    "\n",
    "### Issues that arise\n",
    "- Tough to estimate market beta for an individual asset, can vary depending on time range\n",
    "    - Estimate beta for portfolios of assets instead\n",
    "- Residuals from the model for one asset are not independent from another's residuals\n",
    "    - Caused by variation due to an attribute such as industry or location"
   ]
  },
  {
   "cell_type": "code",
   "execution_count": 23,
   "metadata": {},
   "outputs": [],
   "source": [
    "import pandas as pd\n",
    "import edhec_risk_kit as erk\n",
    "import numpy as np\n",
    "import statsmodels.api as sm"
   ]
  },
  {
   "cell_type": "code",
   "execution_count": 38,
   "metadata": {},
   "outputs": [],
   "source": [
    "ind_rets = erk.get_ind_file('returns', n_inds=49)\n",
    "fff = erk.get_fff_returns()"
   ]
  },
  {
   "cell_type": "markdown",
   "metadata": {},
   "source": [
    "### What is the market beta for Healthcare industry stocks from 1970 to 2015?"
   ]
  },
  {
   "cell_type": "code",
   "execution_count": 46,
   "metadata": {},
   "outputs": [
    {
     "data": {
      "text/html": [
       "<table class=\"simpletable\">\n",
       "<caption>OLS Regression Results</caption>\n",
       "<tr>\n",
       "  <th>Dep. Variable:</th>          <td>Hlth</td>       <th>  R-squared:         </th> <td>   0.387</td>\n",
       "</tr>\n",
       "<tr>\n",
       "  <th>Model:</th>                   <td>OLS</td>       <th>  Adj. R-squared:    </th> <td>   0.386</td>\n",
       "</tr>\n",
       "<tr>\n",
       "  <th>Method:</th>             <td>Least Squares</td>  <th>  F-statistic:       </th> <td>   347.3</td>\n",
       "</tr>\n",
       "<tr>\n",
       "  <th>Date:</th>             <td>Fri, 13 Mar 2020</td> <th>  Prob (F-statistic):</th> <td>1.92e-60</td>\n",
       "</tr>\n",
       "<tr>\n",
       "  <th>Time:</th>                 <td>14:03:13</td>     <th>  Log-Likelihood:    </th> <td>  730.63</td>\n",
       "</tr>\n",
       "<tr>\n",
       "  <th>No. Observations:</th>      <td>   552</td>      <th>  AIC:               </th> <td>  -1457.</td>\n",
       "</tr>\n",
       "<tr>\n",
       "  <th>Df Residuals:</th>          <td>   550</td>      <th>  BIC:               </th> <td>  -1449.</td>\n",
       "</tr>\n",
       "<tr>\n",
       "  <th>Df Model:</th>              <td>     1</td>      <th>                     </th>     <td> </td>   \n",
       "</tr>\n",
       "<tr>\n",
       "  <th>Covariance Type:</th>      <td>nonrobust</td>    <th>                     </th>     <td> </td>   \n",
       "</tr>\n",
       "</table>\n",
       "<table class=\"simpletable\">\n",
       "<tr>\n",
       "      <td></td>        <th>coef</th>     <th>std err</th>      <th>t</th>      <th>P>|t|</th>  <th>[0.025</th>    <th>0.975]</th>  \n",
       "</tr>\n",
       "<tr>\n",
       "  <th>Mkt-RF</th>   <td>    1.1177</td> <td>    0.060</td> <td>   18.635</td> <td> 0.000</td> <td>    1.000</td> <td>    1.236</td>\n",
       "</tr>\n",
       "<tr>\n",
       "  <th>Constant</th> <td>    0.0040</td> <td>    0.003</td> <td>    1.464</td> <td> 0.144</td> <td>   -0.001</td> <td>    0.009</td>\n",
       "</tr>\n",
       "</table>\n",
       "<table class=\"simpletable\">\n",
       "<tr>\n",
       "  <th>Omnibus:</th>       <td>48.762</td> <th>  Durbin-Watson:     </th> <td>   1.818</td>\n",
       "</tr>\n",
       "<tr>\n",
       "  <th>Prob(Omnibus):</th> <td> 0.000</td> <th>  Jarque-Bera (JB):  </th> <td> 250.973</td>\n",
       "</tr>\n",
       "<tr>\n",
       "  <th>Skew:</th>          <td>-0.081</td> <th>  Prob(JB):          </th> <td>3.18e-55</td>\n",
       "</tr>\n",
       "<tr>\n",
       "  <th>Kurtosis:</th>      <td> 6.299</td> <th>  Cond. No.          </th> <td>    21.8</td>\n",
       "</tr>\n",
       "</table><br/><br/>Warnings:<br/>[1] Standard Errors assume that the covariance matrix of the errors is correctly specified."
      ],
      "text/plain": [
       "<class 'statsmodels.iolib.summary.Summary'>\n",
       "\"\"\"\n",
       "                            OLS Regression Results                            \n",
       "==============================================================================\n",
       "Dep. Variable:                   Hlth   R-squared:                       0.387\n",
       "Model:                            OLS   Adj. R-squared:                  0.386\n",
       "Method:                 Least Squares   F-statistic:                     347.3\n",
       "Date:                Fri, 13 Mar 2020   Prob (F-statistic):           1.92e-60\n",
       "Time:                        14:03:13   Log-Likelihood:                 730.63\n",
       "No. Observations:                 552   AIC:                            -1457.\n",
       "Df Residuals:                     550   BIC:                            -1449.\n",
       "Df Model:                           1                                         \n",
       "Covariance Type:            nonrobust                                         \n",
       "==============================================================================\n",
       "                 coef    std err          t      P>|t|      [0.025      0.975]\n",
       "------------------------------------------------------------------------------\n",
       "Mkt-RF         1.1177      0.060     18.635      0.000       1.000       1.236\n",
       "Constant       0.0040      0.003      1.464      0.144      -0.001       0.009\n",
       "==============================================================================\n",
       "Omnibus:                       48.762   Durbin-Watson:                   1.818\n",
       "Prob(Omnibus):                  0.000   Jarque-Bera (JB):              250.973\n",
       "Skew:                          -0.081   Prob(JB):                     3.18e-55\n",
       "Kurtosis:                       6.299   Cond. No.                         21.8\n",
       "==============================================================================\n",
       "\n",
       "Warnings:\n",
       "[1] Standard Errors assume that the covariance matrix of the errors is correctly specified.\n",
       "\"\"\""
      ]
     },
     "execution_count": 46,
     "metadata": {},
     "output_type": "execute_result"
    }
   ],
   "source": [
    "hlth_rets = ind_rets.loc['1970':'2015', ['Hlth']]\n",
    "mkt_excess = fff.loc['1970':'2015', ['Mkt-RF']]\n",
    "exp_var = mkt_excess.copy()\n",
    "exp_var['Constant'] = 1\n",
    "lm = sm.OLS(hlth_rets, exp_var).fit()\n",
    "lm.summary()"
   ]
  },
  {
   "cell_type": "markdown",
   "metadata": {},
   "source": [
    "### The market beta for healthcare stocks is the coefficient on the Mkt-RF variable in the model. In this case, it is 1.1177. This tells us that the expected excess return on healthcare stocks is 1.1177 times the excess return of the market\n",
    "\n",
    "### Which industry had the highest market beta from 1960 to 2015?\n",
    "- Consider all 49 industries"
   ]
  },
  {
   "cell_type": "code",
   "execution_count": 32,
   "metadata": {},
   "outputs": [],
   "source": [
    "industries = list(ind_rets.columns)\n",
    "betas = []\n",
    "for ind in industries:\n",
    "    ind_excess = ind_rets.loc['1960':'2015 ', ind]\n",
    "    lm = sm.OLS(ind_excess, exp_var).fit()\n",
    "    betas.append(lm.params['Mkt-RF'])\n",
    "\n",
    "beta_df = pd.DataFrame({'Beta':betas},\n",
    "                        index = industries)"
   ]
  },
  {
   "cell_type": "code",
   "execution_count": 33,
   "metadata": {},
   "outputs": [
    {
     "name": "stdout",
     "output_type": "stream",
     "text": [
      "Chips had a market beta of 1.39\n"
     ]
    }
   ],
   "source": [
    "print(beta_df['Beta'].idxmax(), 'had a market beta of', np.round(beta_df['Beta'].max(),2))"
   ]
  },
  {
   "cell_type": "markdown",
   "metadata": {},
   "source": [
    "### Lowest market beta?"
   ]
  },
  {
   "cell_type": "code",
   "execution_count": 34,
   "metadata": {},
   "outputs": [
    {
     "name": "stdout",
     "output_type": "stream",
     "text": [
      "Util had a market beta of 0.54\n"
     ]
    }
   ],
   "source": [
    "print(beta_df['Beta'].idxmin(), 'had a market beta of', np.round(beta_df['Beta'].min(),2))"
   ]
  }
 ],
 "metadata": {
  "kernelspec": {
   "display_name": "Python 3",
   "language": "python",
   "name": "python3"
  },
  "language_info": {
   "codemirror_mode": {
    "name": "ipython",
    "version": 3
   },
   "file_extension": ".py",
   "mimetype": "text/x-python",
   "name": "python",
   "nbconvert_exporter": "python",
   "pygments_lexer": "ipython3",
   "version": "3.7.5"
  }
 },
 "nbformat": 4,
 "nbformat_minor": 4
}
