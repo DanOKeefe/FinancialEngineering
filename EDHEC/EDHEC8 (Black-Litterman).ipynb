{
 "cells": [
  {
   "cell_type": "markdown",
   "metadata": {},
   "source": [
    "# Implied Returns & Black-Litterman\n",
    "\n",
    "### Black-Litterman model \n",
    "The BL model uses \"views\" from the active investor and incorporates them with the implied returns calculated from the value-weighted market portfolio. The model uses the implied returns as a prior distribution and treats the \"views\" as observed data used to calculate a posterior distribution on the returns as well as a posterior for the covariance of the returns.\n",
    "\n",
    "### $$\\pi = \\delta\\Sigma w$$\n",
    "$\\pi$ : implied returns (N x 1)\n",
    "\n",
    "$\\delta$ : risk aversion parameter (1 x 1)\n",
    "- Original paper uses a value of 2.5 for this parameter\n",
    "- Another approach is the set it to the market price of risk:\n",
    "    - $\\delta = \\mu_M / \\sigma^2_M$\n",
    "\n",
    "$\\Sigma$ : Covariance of the assets (N x N)\n",
    "\n",
    "$w$ : Equilibrium market weights (N x 1)\n",
    "        \n",
    "### Additional variables\n",
    "\n",
    "$Q$ : (K x 1) Matrix containing views\n",
    "\n",
    "$P$ : (K x N) Pick matrix. Links each view to the corresponding asset\n",
    "\n",
    "$\\Omega$ : Covariance matrix representing the uncertaintly of views\n",
    "\n",
    "$\\tau$ : A scalar indicating the uncertainty of the prior\n",
    "- Original paper suggests to use a small number, like $\\tau = 1/T$\n",
    "    - $T$ = number of periods of data used\n",
    "    - Example: 5 years of data - > $T = 1/(5 \\cdot 12) = 0.02$\n",
    "\n",
    "### How to represent views in $Q$ and $P$ : \n",
    "For your $k$-th view, set $Q_k$ to be the difference of returns between assets i and j. Set $P_ki$ to -1 for the asset with the lower expected return (asset i). Set $P_kj$ to 1 for the asset with the higher expected return (asset j). All other elements in row $k$ should be set to 0. $\\Omega$ represents the uncertaintly of the views. The original paper recommends setting $\\Omega = diag(P (\\tau \\Sigma) P^T)$.\n",
    "\n",
    "### Equations for retrieving the posterior distribution on the returns as well as the covariance of the returns.\n",
    "\n",
    "\\begin{equation}\n",
    "\\label{eq:blMu}\n",
    "\\mu^{BL} = \\pi + \\tau \\Sigma P^T[(P \\tau \\Sigma P^T) + \\Omega]^{-1}[Q - P \\pi]\n",
    "\\end{equation}\n",
    "\n",
    "\\begin{equation}\n",
    "\\label{eq:blSigma}\n",
    "\\Sigma^{BL} = \\Sigma + \\tau \\Sigma - \\tau\\Sigma P^T(P \\tau \\Sigma P^T + \\Omega)^{-1} P \\tau \\Sigma\n",
    "\\end{equation}\n",
    "\n",
    "# Use\n",
    "\n",
    "### For the examples in this notebook, use data from 1980 to 2015 for the following 5 industries:\n",
    "- Beer, Hlth, Fin, Softw, and Clths\n",
    "\n",
    "### Calculate the implied annual returns using the with a delta of 2.5 and the same sigma prior method as the He-Litterman paper\n",
    "- Neutral prior distribution on expected returns is obtained by reverse engineering, assuming that the cap-weighted market portfolio is the optimal portfolio.\n",
    "- Covariance matrix & weights -> implied returns\n"
   ]
  },
  {
   "cell_type": "code",
   "execution_count": 1,
   "metadata": {},
   "outputs": [],
   "source": [
    "import numpy as np\n",
    "import pandas as pd\n",
    "import edhec_risk_kit as erk"
   ]
  },
  {
   "cell_type": "code",
   "execution_count": 2,
   "metadata": {},
   "outputs": [],
   "source": [
    "industries = ['Beer', 'Hlth', 'Fin', 'Softw', 'Clths']\n",
    "ind_rets = erk.get_ind_returns(n_inds=49).loc['1980':'2015', industries]\n",
    "ind_mcap = erk.get_ind_market_caps(49).loc['1980':'2015', industries]\n",
    "weights = ind_mcap.loc['1980-01'] / ind_mcap.loc['1980-01'].sum()\n",
    "delta = 2.5"
   ]
  },
  {
   "cell_type": "markdown",
   "metadata": {},
   "source": [
    "### Use equation $\\pi = \\delta\\Sigma w$\n",
    "erk.implied_returns(delta, sigma, w)"
   ]
  },
  {
   "cell_type": "code",
   "execution_count": 3,
   "metadata": {},
   "outputs": [
    {
     "data": {
      "text/plain": [
       "Beer     0.013814\n",
       "Hlth     0.020526\n",
       "Fin      0.032345\n",
       "Softw    0.029059\n",
       "Clths    0.023959\n",
       "Name: Implied Returns, dtype: float64"
      ]
     },
     "execution_count": 3,
     "metadata": {},
     "output_type": "execute_result"
    }
   ],
   "source": [
    "s = pd.DataFrame(ind_rets.cov()*np.sqrt(12), index=industries, columns=industries)\n",
    "pi = erk.implied_returns(delta=2.5, sigma=s, w=weights)\n",
    "pi"
   ]
  },
  {
   "cell_type": "markdown",
   "metadata": {},
   "source": [
    "### Implement the active view that Softw will outperform Fin and Clths by 1%\n",
    "- What will be the entry in the P matrix for Fin? For Softw?"
   ]
  },
  {
   "cell_type": "markdown",
   "metadata": {},
   "source": [
    "### Use equation $\\Omega = diag(P (\\tau \\Sigma) P^T)$\n",
    "erk.proportional_prior(sigma, tau, p)\n",
    "- input into the BL equations"
   ]
  },
  {
   "cell_type": "markdown",
   "metadata": {},
   "source": [
    "### Use the Black-Litterman equations\n",
    "\n",
    "\\begin{equation}\n",
    "\\label{eq:blMu}\n",
    "\\mu^{BL} = \\pi + \\tau \\Sigma P^T[(P \\tau \\Sigma P^T) + \\Omega]^{-1}[Q - P \\pi]\n",
    "\\end{equation}\n",
    "\n",
    "\\begin{equation}\n",
    "\\label{eq:blSigma}\n",
    "\\Sigma^{BL} = \\Sigma + \\tau \\Sigma - \\tau\\Sigma P^T(P \\tau \\Sigma P^T + \\Omega)^{-1} P \\tau \\Sigma\n",
    "\\end{equation}\n",
    "\n",
    "erk.bl(w_prior, sigma_prior, p, q, omega, delta, tau)"
   ]
  },
  {
   "cell_type": "code",
   "execution_count": 4,
   "metadata": {},
   "outputs": [
    {
     "name": "stdout",
     "output_type": "stream",
     "text": [
      "P:\n",
      "    Beer  Hlth       Fin  Softw     Clths\n",
      "0   0.0   0.0 -0.890879    1.0 -0.109121\n"
     ]
    }
   ],
   "source": [
    "q = pd.Series([.01]) # one view\n",
    "p = pd.DataFrame([0.]*len(industries), index=industries).T\n",
    "w_Fin =  weights.loc[\"Fin\"]/(weights.loc[\"Fin\"]+weights.loc[\"Clths\"])\n",
    "w_Clths =  weights.loc[\"Clths\"]/(weights.loc[\"Fin\"]+weights.loc[\"Clths\"])\n",
    "p.iloc[0]['Softw'] = 1.\n",
    "p.iloc[0]['Fin'] = -w_Fin\n",
    "p.iloc[0]['Clths'] = -w_Clths\n",
    "print('P:\\n', p)"
   ]
  },
  {
   "cell_type": "markdown",
   "metadata": {},
   "source": [
    "### Implement the active view that Softw will outperform Fin and Clths by 1%\n",
    "- What will the new expected returns be?"
   ]
  },
  {
   "cell_type": "code",
   "execution_count": 5,
   "metadata": {},
   "outputs": [
    {
     "data": {
      "text/plain": [
       "Beer     0.013861\n",
       "Hlth     0.020609\n",
       "Fin      0.031688\n",
       "Softw    0.034657\n",
       "Clths    0.023933\n",
       "dtype: float64"
      ]
     },
     "execution_count": 5,
     "metadata": {},
     "output_type": "execute_result"
    }
   ],
   "source": [
    "delta = 2.5\n",
    "tau = 0.05\n",
    "sigma_prior = ind_rets.cov()*np.sqrt(12)\n",
    "# Find the Black Litterman Expected Returns\n",
    "bl_mu, bl_sigma = erk.bl(weights, sigma_prior, p, q, tau = tau)\n",
    "bl_mu"
   ]
  },
  {
   "cell_type": "markdown",
   "metadata": {},
   "source": [
    "### Calculate the weights in the Max Sharpe Ratio portfolio given these new expected returns"
   ]
  },
  {
   "cell_type": "code",
   "execution_count": 6,
   "metadata": {},
   "outputs": [
    {
     "data": {
      "text/html": [
       "<div>\n",
       "<style scoped>\n",
       "    .dataframe tbody tr th:only-of-type {\n",
       "        vertical-align: middle;\n",
       "    }\n",
       "\n",
       "    .dataframe tbody tr th {\n",
       "        vertical-align: top;\n",
       "    }\n",
       "\n",
       "    .dataframe thead th {\n",
       "        text-align: right;\n",
       "    }\n",
       "</style>\n",
       "<table border=\"1\" class=\"dataframe\">\n",
       "  <thead>\n",
       "    <tr style=\"text-align: right;\">\n",
       "      <th></th>\n",
       "      <th>Weight</th>\n",
       "    </tr>\n",
       "  </thead>\n",
       "  <tbody>\n",
       "    <tr>\n",
       "      <th>Beer</th>\n",
       "      <td>0.000000</td>\n",
       "    </tr>\n",
       "    <tr>\n",
       "      <th>Hlth</th>\n",
       "      <td>0.002034</td>\n",
       "    </tr>\n",
       "    <tr>\n",
       "      <th>Fin</th>\n",
       "      <td>0.712257</td>\n",
       "    </tr>\n",
       "    <tr>\n",
       "      <th>Softw</th>\n",
       "      <td>0.253155</td>\n",
       "    </tr>\n",
       "    <tr>\n",
       "      <th>Clths</th>\n",
       "      <td>0.032554</td>\n",
       "    </tr>\n",
       "  </tbody>\n",
       "</table>\n",
       "</div>"
      ],
      "text/plain": [
       "         Weight\n",
       "Beer   0.000000\n",
       "Hlth   0.002034\n",
       "Fin    0.712257\n",
       "Softw  0.253155\n",
       "Clths  0.032554"
      ]
     },
     "execution_count": 6,
     "metadata": {},
     "output_type": "execute_result"
    }
   ],
   "source": [
    "pd.DataFrame({\n",
    "    'Weight':erk.msr(riskfree_rate=0.005, er=bl_mu, cov=bl_sigma)\n",
    "    },\n",
    "    index=industries\n",
    ")"
   ]
  },
  {
   "cell_type": "markdown",
   "metadata": {},
   "source": [
    "### Change the view to be that you believe Software will outperform Finance and Clothes by 4%\n",
    "- Then calculate the new weights of the Max Sharpe Ratio portfolio"
   ]
  },
  {
   "cell_type": "code",
   "execution_count": 7,
   "metadata": {},
   "outputs": [
    {
     "name": "stdout",
     "output_type": "stream",
     "text": [
      "P:\n",
      "    Beer  Hlth       Fin  Softw     Clths\n",
      "0   0.0   0.0 -0.890879    1.0 -0.109121\n"
     ]
    }
   ],
   "source": [
    "q = pd.Series([.04]) # one view\n",
    "p = pd.DataFrame([0.]*len(industries), index=industries).T\n",
    "w_Fin =  weights.loc[\"Fin\"]/(weights.loc[\"Fin\"]+weights.loc[\"Clths\"])\n",
    "w_Clths =  weights.loc[\"Clths\"]/(weights.loc[\"Fin\"]+weights.loc[\"Clths\"])\n",
    "p.iloc[0]['Softw'] = 1.\n",
    "p.iloc[0]['Fin'] = -w_Fin\n",
    "p.iloc[0]['Clths'] = -w_Clths\n",
    "# P matrix doesn't change\n",
    "print('P:\\n', p)"
   ]
  },
  {
   "cell_type": "code",
   "execution_count": 8,
   "metadata": {},
   "outputs": [
    {
     "name": "stdout",
     "output_type": "stream",
     "text": [
      "New expected returns:\n"
     ]
    },
    {
     "data": {
      "text/plain": [
       "Beer     0.013973\n",
       "Hlth     0.020810\n",
       "Fin      0.030095\n",
       "Softw    0.048231\n",
       "Clths    0.023871\n",
       "dtype: float64"
      ]
     },
     "execution_count": 8,
     "metadata": {},
     "output_type": "execute_result"
    }
   ],
   "source": [
    "delta = 2.5\n",
    "tau = 0.05\n",
    "sigma_prior = ind_rets.cov()*np.sqrt(12)\n",
    "# Find the Black Litterman Expected Returns\n",
    "bl_mu, bl_sigma = erk.bl(weights, sigma_prior, p, q, tau = tau)\n",
    "print('New expected returns:')\n",
    "bl_mu"
   ]
  },
  {
   "cell_type": "code",
   "execution_count": 9,
   "metadata": {},
   "outputs": [
    {
     "name": "stdout",
     "output_type": "stream",
     "text": [
      "New MSR weights\n"
     ]
    },
    {
     "data": {
      "text/html": [
       "<div>\n",
       "<style scoped>\n",
       "    .dataframe tbody tr th:only-of-type {\n",
       "        vertical-align: middle;\n",
       "    }\n",
       "\n",
       "    .dataframe tbody tr th {\n",
       "        vertical-align: top;\n",
       "    }\n",
       "\n",
       "    .dataframe thead th {\n",
       "        text-align: right;\n",
       "    }\n",
       "</style>\n",
       "<table border=\"1\" class=\"dataframe\">\n",
       "  <thead>\n",
       "    <tr style=\"text-align: right;\">\n",
       "      <th></th>\n",
       "      <th>Weight</th>\n",
       "    </tr>\n",
       "  </thead>\n",
       "  <tbody>\n",
       "    <tr>\n",
       "      <th>Beer</th>\n",
       "      <td>0.000000e+00</td>\n",
       "    </tr>\n",
       "    <tr>\n",
       "      <th>Hlth</th>\n",
       "      <td>3.603698e-18</td>\n",
       "    </tr>\n",
       "    <tr>\n",
       "      <th>Fin</th>\n",
       "      <td>1.573941e-01</td>\n",
       "    </tr>\n",
       "    <tr>\n",
       "      <th>Softw</th>\n",
       "      <td>8.426059e-01</td>\n",
       "    </tr>\n",
       "    <tr>\n",
       "      <th>Clths</th>\n",
       "      <td>0.000000e+00</td>\n",
       "    </tr>\n",
       "  </tbody>\n",
       "</table>\n",
       "</div>"
      ],
      "text/plain": [
       "             Weight\n",
       "Beer   0.000000e+00\n",
       "Hlth   3.603698e-18\n",
       "Fin    1.573941e-01\n",
       "Softw  8.426059e-01\n",
       "Clths  0.000000e+00"
      ]
     },
     "execution_count": 9,
     "metadata": {},
     "output_type": "execute_result"
    }
   ],
   "source": [
    "print('New MSR weights')\n",
    "pd.DataFrame({\n",
    "    'Weight':erk.msr(riskfree_rate=0.005, er=bl_mu, cov=bl_sigma)\n",
    "    },\n",
    "    index=industries\n",
    ")"
   ]
  }
 ],
 "metadata": {
  "kernelspec": {
   "display_name": "Python 3",
   "language": "python",
   "name": "python3"
  },
  "language_info": {
   "codemirror_mode": {
    "name": "ipython",
    "version": 3
   },
   "file_extension": ".py",
   "mimetype": "text/x-python",
   "name": "python",
   "nbconvert_exporter": "python",
   "pygments_lexer": "ipython3",
   "version": "3.7.5"
  }
 },
 "nbformat": 4,
 "nbformat_minor": 4
}
