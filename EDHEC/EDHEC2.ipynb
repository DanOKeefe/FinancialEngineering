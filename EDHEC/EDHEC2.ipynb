{
 "cells": [
  {
   "cell_type": "markdown",
   "metadata": {},
   "source": [
    "# Using EDHEC Risk Kit Part 2\n",
    "### Explore use of the library to:\n",
    "- calculate monthly parametric guassian VaR\n",
    "- calculate monthly parametric gaussian VaR with Cornish-Fisher Adjustment\n",
    "- retrieve weights in a portfolio\n",
    "- build MSR and GMV portfolios\n",
    "- Calculate annual volatility of a portfolio containing multiple assets"
   ]
  },
  {
   "cell_type": "code",
   "execution_count": 1,
   "metadata": {},
   "outputs": [],
   "source": [
    "import numpy as np\n",
    "import pandas as pd\n",
    "import edhec_risk_kit as erk\n",
    "import matplotlib.pyplot as plt\n",
    "%matplotlib inline"
   ]
  },
  {
   "cell_type": "markdown",
   "metadata": {},
   "source": [
    "### Load the hedge fund index returns\n",
    "- Considers years from 1980 to 2015"
   ]
  },
  {
   "cell_type": "code",
   "execution_count": 2,
   "metadata": {},
   "outputs": [],
   "source": [
    "hfi = erk.get_hfi_returns()['1980':'2015']"
   ]
  },
  {
   "cell_type": "markdown",
   "metadata": {},
   "source": [
    "### What was the Monthly Parametric Gaussian VaR at the 1% level of the Emerging Markets strategy?"
   ]
  },
  {
   "cell_type": "code",
   "execution_count": 3,
   "metadata": {},
   "outputs": [
    {
     "data": {
      "text/plain": [
       "0.0727702691677074"
      ]
     },
     "execution_count": 3,
     "metadata": {},
     "output_type": "execute_result"
    }
   ],
   "source": [
    "erk.var_gaussian(hfi['Emerging Markets'], level=1)"
   ]
  },
  {
   "cell_type": "markdown",
   "metadata": {},
   "source": [
    "### What was the Monthly Parametric Gaussian VaR at the 1% level of the Emerging Markets strategy with the Cornish-Fisher Adjustment?"
   ]
  },
  {
   "cell_type": "code",
   "execution_count": 4,
   "metadata": {},
   "outputs": [
    {
     "data": {
      "text/plain": [
       "0.13051127699820947"
      ]
     },
     "execution_count": 4,
     "metadata": {},
     "output_type": "execute_result"
    }
   ],
   "source": [
    "erk.var_gaussian(hfi['Emerging Markets'], level=1, modified=True)"
   ]
  },
  {
   "cell_type": "markdown",
   "metadata": {},
   "source": [
    "### What was the Monthly Historic VaR at the 1% level of the Emerging Markets strategy?"
   ]
  },
  {
   "cell_type": "code",
   "execution_count": 5,
   "metadata": {},
   "outputs": [
    {
     "data": {
      "text/plain": [
       "0.093961"
      ]
     },
     "execution_count": 5,
     "metadata": {},
     "output_type": "execute_result"
    }
   ],
   "source": [
    "erk.var_historic(hfi['Emerging Markets'], level=1)"
   ]
  },
  {
   "cell_type": "markdown",
   "metadata": {},
   "source": [
    "### Load industry returns from 1980 to 2015\n",
    "- Consider the Finance, Utility, Telecom, and Health industries"
   ]
  },
  {
   "cell_type": "code",
   "execution_count": 6,
   "metadata": {},
   "outputs": [],
   "source": [
    "cols = ['Fin', 'Util', 'Telcm', 'Hlth']\n",
    "ind = erk.get_ind_returns().loc['1980':'2015', cols]"
   ]
  },
  {
   "cell_type": "markdown",
   "metadata": {},
   "source": [
    "### Calculate the weights for the maximum Sharpe ratio portfolio"
   ]
  },
  {
   "cell_type": "code",
   "execution_count": 7,
   "metadata": {},
   "outputs": [
    {
     "data": {
      "text/html": [
       "<div>\n",
       "<style scoped>\n",
       "    .dataframe tbody tr th:only-of-type {\n",
       "        vertical-align: middle;\n",
       "    }\n",
       "\n",
       "    .dataframe tbody tr th {\n",
       "        vertical-align: top;\n",
       "    }\n",
       "\n",
       "    .dataframe thead th {\n",
       "        text-align: right;\n",
       "    }\n",
       "</style>\n",
       "<table border=\"1\" class=\"dataframe\">\n",
       "  <thead>\n",
       "    <tr style=\"text-align: right;\">\n",
       "      <th></th>\n",
       "      <th>Shape Ratio Weight</th>\n",
       "    </tr>\n",
       "  </thead>\n",
       "  <tbody>\n",
       "    <tr>\n",
       "      <th>Fin</th>\n",
       "      <td>0.000000</td>\n",
       "    </tr>\n",
       "    <tr>\n",
       "      <th>Util</th>\n",
       "      <td>0.454315</td>\n",
       "    </tr>\n",
       "    <tr>\n",
       "      <th>Telcm</th>\n",
       "      <td>0.061605</td>\n",
       "    </tr>\n",
       "    <tr>\n",
       "      <th>Hlth</th>\n",
       "      <td>0.484080</td>\n",
       "    </tr>\n",
       "  </tbody>\n",
       "</table>\n",
       "</div>"
      ],
      "text/plain": [
       "       Shape Ratio Weight\n",
       "Fin              0.000000\n",
       "Util             0.454315\n",
       "Telcm            0.061605\n",
       "Hlth             0.484080"
      ]
     },
     "execution_count": 7,
     "metadata": {},
     "output_type": "execute_result"
    }
   ],
   "source": [
    "er = erk.annualize_rets(ind, periods_per_year=12)\n",
    "cov = ind.cov()\n",
    "w_msr = erk.msr(riskfree_rate=0.02, er=er, cov=cov)\n",
    "pd.DataFrame(w_msr, index=cols, columns=['Shape Ratio Weight'])"
   ]
  },
  {
   "cell_type": "markdown",
   "metadata": {},
   "source": [
    "### Calculate the weights for the global minimum variance portfolio"
   ]
  },
  {
   "cell_type": "code",
   "execution_count": 8,
   "metadata": {},
   "outputs": [
    {
     "data": {
      "text/html": [
       "<div>\n",
       "<style scoped>\n",
       "    .dataframe tbody tr th:only-of-type {\n",
       "        vertical-align: middle;\n",
       "    }\n",
       "\n",
       "    .dataframe tbody tr th {\n",
       "        vertical-align: top;\n",
       "    }\n",
       "\n",
       "    .dataframe thead th {\n",
       "        text-align: right;\n",
       "    }\n",
       "</style>\n",
       "<table border=\"1\" class=\"dataframe\">\n",
       "  <thead>\n",
       "    <tr style=\"text-align: right;\">\n",
       "      <th></th>\n",
       "      <th>GMV Weight</th>\n",
       "    </tr>\n",
       "  </thead>\n",
       "  <tbody>\n",
       "    <tr>\n",
       "      <th>Fin</th>\n",
       "      <td>0.000000</td>\n",
       "    </tr>\n",
       "    <tr>\n",
       "      <th>Util</th>\n",
       "      <td>0.581040</td>\n",
       "    </tr>\n",
       "    <tr>\n",
       "      <th>Telcm</th>\n",
       "      <td>0.169712</td>\n",
       "    </tr>\n",
       "    <tr>\n",
       "      <th>Hlth</th>\n",
       "      <td>0.249248</td>\n",
       "    </tr>\n",
       "  </tbody>\n",
       "</table>\n",
       "</div>"
      ],
      "text/plain": [
       "       GMV Weight\n",
       "Fin      0.000000\n",
       "Util     0.581040\n",
       "Telcm    0.169712\n",
       "Hlth     0.249248"
      ]
     },
     "execution_count": 8,
     "metadata": {},
     "output_type": "execute_result"
    }
   ],
   "source": [
    "w_gmv = erk.gmv(cov=cov)\n",
    "pd.DataFrame(w_gmv, index=cols, columns=['GMV Weight'])"
   ]
  },
  {
   "cell_type": "markdown",
   "metadata": {},
   "source": [
    "### Compare the annualized volatility of the MSR and GMV portfolios (weights calculated from data from 1980 to 2015) from 2016 to 2018"
   ]
  },
  {
   "cell_type": "code",
   "execution_count": 9,
   "metadata": {},
   "outputs": [
    {
     "name": "stdout",
     "output_type": "stream",
     "text": [
      "MSR 2016-2018 variance: 0.0968449984016509\n",
      "GMV 2016-2018 variance: 0.08990557036497361\n"
     ]
    }
   ],
   "source": [
    "ind = erk.get_ind_returns().loc[:, cols]\n",
    "\n",
    "er = erk.annualize_rets(\n",
    "    ind['1980':'2015'], \n",
    "    periods_per_year=12\n",
    ")\n",
    "\n",
    "cov = ind['1980':'2015'].cov()\n",
    "w_msr = erk.msr(riskfree_rate=0.02, er=er, cov=cov)\n",
    "w_gmv = erk.gmv(cov=cov)\n",
    "\n",
    "vol_msr = np.sqrt(12)*erk.portfolio_vol(\n",
    "    weights=w_msr, \n",
    "    covmat=ind['2016':'2018'].cov()\n",
    ")\n",
    "vol_gmv = np.sqrt(12)*erk.portfolio_vol(\n",
    "    weights=w_gmv, \n",
    "    covmat=ind['2016':'2018'].cov()\n",
    ")\n",
    "\n",
    "print('MSR 2016-2018 variance:', vol_msr)\n",
    "print('GMV 2016-2018 variance:', vol_gmv)"
   ]
  },
  {
   "cell_type": "markdown",
   "metadata": {},
   "source": [
    "### Calculate the annualized returns of the these two portfolios from 2016 to 2018"
   ]
  },
  {
   "cell_type": "code",
   "execution_count": 10,
   "metadata": {},
   "outputs": [
    {
     "name": "stdout",
     "output_type": "stream",
     "text": [
      "MSR 2016-2018 return: 0.08369298270843524\n",
      "GMV 2016-2018 return: 0.08893150684183913\n"
     ]
    }
   ],
   "source": [
    "r = erk.annualize_rets(\n",
    "    ind['2016':'2018'], \n",
    "    periods_per_year=12\n",
    ")\n",
    "\n",
    "r_msr = erk.portfolio_return(\n",
    "    weights = w_msr, \n",
    "    returns = r\n",
    ")\n",
    "\n",
    "r_gmv = erk.portfolio_return(\n",
    "    weights = w_gmv,\n",
    "    returns = r\n",
    ")\n",
    "\n",
    "print('MSR 2016-2018 return:', r_msr)\n",
    "print('GMV 2016-2018 return:', r_gmv)"
   ]
  },
  {
   "cell_type": "code",
   "execution_count": 12,
   "metadata": {},
   "outputs": [
    {
     "data": {
      "text/html": [
       "<div>\n",
       "<style scoped>\n",
       "    .dataframe tbody tr th:only-of-type {\n",
       "        vertical-align: middle;\n",
       "    }\n",
       "\n",
       "    .dataframe tbody tr th {\n",
       "        vertical-align: top;\n",
       "    }\n",
       "\n",
       "    .dataframe thead th {\n",
       "        text-align: right;\n",
       "    }\n",
       "</style>\n",
       "<table border=\"1\" class=\"dataframe\">\n",
       "  <thead>\n",
       "    <tr style=\"text-align: right;\">\n",
       "      <th></th>\n",
       "      <th>Fin</th>\n",
       "      <th>Util</th>\n",
       "      <th>Telcm</th>\n",
       "      <th>Hlth</th>\n",
       "    </tr>\n",
       "  </thead>\n",
       "  <tbody>\n",
       "    <tr>\n",
       "      <th>1926-07</th>\n",
       "      <td>0.0037</td>\n",
       "      <td>0.0704</td>\n",
       "      <td>0.0083</td>\n",
       "      <td>0.0177</td>\n",
       "    </tr>\n",
       "    <tr>\n",
       "      <th>1926-08</th>\n",
       "      <td>0.0446</td>\n",
       "      <td>-0.0169</td>\n",
       "      <td>0.0217</td>\n",
       "      <td>0.0425</td>\n",
       "    </tr>\n",
       "    <tr>\n",
       "      <th>1926-09</th>\n",
       "      <td>-0.0123</td>\n",
       "      <td>0.0204</td>\n",
       "      <td>0.0241</td>\n",
       "      <td>0.0069</td>\n",
       "    </tr>\n",
       "    <tr>\n",
       "      <th>1926-10</th>\n",
       "      <td>-0.0516</td>\n",
       "      <td>-0.0263</td>\n",
       "      <td>-0.0011</td>\n",
       "      <td>-0.0057</td>\n",
       "    </tr>\n",
       "    <tr>\n",
       "      <th>1926-11</th>\n",
       "      <td>0.0224</td>\n",
       "      <td>0.0371</td>\n",
       "      <td>0.0163</td>\n",
       "      <td>0.0542</td>\n",
       "    </tr>\n",
       "  </tbody>\n",
       "</table>\n",
       "</div>"
      ],
      "text/plain": [
       "            Fin    Util   Telcm    Hlth\n",
       "1926-07  0.0037  0.0704  0.0083  0.0177\n",
       "1926-08  0.0446 -0.0169  0.0217  0.0425\n",
       "1926-09 -0.0123  0.0204  0.0241  0.0069\n",
       "1926-10 -0.0516 -0.0263 -0.0011 -0.0057\n",
       "1926-11  0.0224  0.0371  0.0163  0.0542"
      ]
     },
     "execution_count": 12,
     "metadata": {},
     "output_type": "execute_result"
    }
   ],
   "source": [
    "ind.head()"
   ]
  },
  {
   "cell_type": "markdown",
   "metadata": {},
   "source": [
    "### Plot the efficient frontier for a portfolio considering 2 assets, Finance and Utilities stocks, based on evaluation from 1980 to 2015"
   ]
  },
  {
   "cell_type": "code",
   "execution_count": 14,
   "metadata": {},
   "outputs": [
    {
     "data": {
      "text/plain": [
       "<matplotlib.axes._subplots.AxesSubplot at 0x1a41f934308>"
      ]
     },
     "execution_count": 14,
     "metadata": {},
     "output_type": "execute_result"
    },
    {
     "data": {
      "image/png": "[encoded data removed]",
      "text/plain": [
       "<Figure size 432x288 with 1 Axes>"
      ]
     },
     "metadata": {
      "needs_background": "light"
     },
     "output_type": "display_data"
    }
   ],
   "source": [
    "er = erk.annualize_rets(\n",
    "    ind['1980':'2015'], \n",
    "    periods_per_year=12\n",
    ")\n",
    "\n",
    "erk.plot_ef2(\n",
    "    100,\n",
    "    er=er[['Fin', 'Util']],\n",
    "    cov=ind.loc['1980':'2015', ['Fin', 'Util']].cov()\n",
    ")"
   ]
  },
  {
   "cell_type": "markdown",
   "metadata": {},
   "source": [
    "### Plot the efficient frontier for a portfolio considering 4 assets: Finance, Utilities, Telecom, and Health stocks, based on evaluation from 1980 to 2015"
   ]
  },
  {
   "cell_type": "code",
   "execution_count": 19,
   "metadata": {},
   "outputs": [
    {
     "data": {
      "text/plain": [
       "<matplotlib.axes._subplots.AxesSubplot at 0x1a4200121c8>"
      ]
     },
     "execution_count": 19,
     "metadata": {},
     "output_type": "execute_result"
    },
    {
     "data": {
      "image/png": "[encoded data removed]",
      "text/plain": [
       "<Figure size 432x288 with 1 Axes>"
      ]
     },
     "metadata": {
      "needs_background": "light"
     },
     "output_type": "display_data"
    }
   ],
   "source": [
    "er = erk.annualize_rets(\n",
    "    ind['1980':'2015'], \n",
    "    periods_per_year=12\n",
    ")\n",
    "\n",
    "erk.plot_ef(\n",
    "    300, \n",
    "    er=er, \n",
    "    cov=ind.loc['1980':'2015', cols].cov(), \n",
    "    show_ew=True,\n",
    "    show_gmv=True\n",
    ")"
   ]
  },
  {
   "cell_type": "code",
   "execution_count": null,
   "metadata": {},
   "outputs": [],
   "source": []
  }
 ],
 "metadata": {
  "kernelspec": {
   "display_name": "Python 3",
   "language": "python",
   "name": "python3"
  },
  "language_info": {
   "codemirror_mode": {
    "name": "ipython",
    "version": 3
   },
   "file_extension": ".py",
   "mimetype": "text/x-python",
   "name": "python",
   "nbconvert_exporter": "python",
   "pygments_lexer": "ipython3",
   "version": "3.7.5"
  }
 },
 "nbformat": 4,
 "nbformat_minor": 4
}
