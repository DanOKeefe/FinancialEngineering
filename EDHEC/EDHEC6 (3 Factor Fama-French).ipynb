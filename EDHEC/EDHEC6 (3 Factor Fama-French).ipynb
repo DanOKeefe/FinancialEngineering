{
 "cells": [
  {
   "cell_type": "markdown",
   "metadata": {},
   "source": [
    "# Fama-French 3-factor model\n",
    "\n",
    "### Build on CAPM by incorporating additional independent variables\n",
    "- Market risk (just like in CAPM)\n",
    "- SMB : Outperformance of small-cap stocks vs large-cap\n",
    "- HML : Outperformance of high book-to-market stocks vs small book-to-market\n",
    "\n",
    "### New model:\n",
    "- $r = R_f + \\beta(R_m - R_f) + b_s\\cdot SMB + b_v\\cdot HML + \\alpha$\n",
    "- $\\beta$ will not be equal to the CAPM $\\beta$ since there are additional factors\n",
    "- The $b_s$ and $b_v$ coefficients can be positive or negative\n",
    "- Explains ~90% of a diversified portfolio's returns\n",
    "    - CAPM usually explains ~70%\n",
    "\n",
    "### Utilize this model to conduct Sharpe Style Analysis on industry returns from 1970 to 2015"
   ]
  },
  {
   "cell_type": "code",
   "execution_count": 2,
   "metadata": {},
   "outputs": [],
   "source": [
    "import numpy as np\n",
    "import pandas as pd\n",
    "import edhec_risk_kit as erk\n",
    "import statsmodels.api as sm"
   ]
  },
  {
   "cell_type": "markdown",
   "metadata": {},
   "source": [
    "### Which industry portfolio learned most towards small-cap stocks vs large-cap?"
   ]
  },
  {
   "cell_type": "code",
   "execution_count": 3,
   "metadata": {},
   "outputs": [],
   "source": [
    "ind_rets = erk.get_ind_returns(n_inds=49)\n",
    "fff = erk.get_fff_returns()\n",
    "ind_excess = ind_rets['1970':'2015'] - fff.loc['1970':'2015', ['RF']].values\n",
    "mkt_excess = fff.loc['1970':'2015', ['Mkt-RF']]\n",
    "exp_var = mkt_excess.copy()\n",
    "exp_var['SMB'] = fff.loc['1970':'2015', ['SMB']]\n",
    "exp_var['HML'] = fff.loc['1970':'2015', ['HML']]\n",
    "exp_var['Constant'] = 1\n",
    "\n",
    "lm = sm.OLS(ind_excess, exp_var).fit()\n",
    "result = erk.regress(ind_excess, exp_var)"
   ]
  },
  {
   "cell_type": "code",
   "execution_count": 4,
   "metadata": {},
   "outputs": [
    {
     "data": {
      "text/plain": [
       "'RlEst'"
      ]
     },
     "execution_count": 4,
     "metadata": {},
     "output_type": "execute_result"
    }
   ],
   "source": [
    "smb_idx_max = result.params.loc['SMB', :].idxmax()\n",
    "ind_rets.columns[smb_idx_max]"
   ]
  },
  {
   "cell_type": "markdown",
   "metadata": {},
   "source": [
    "### Highest tilt toward large-cap stocks"
   ]
  },
  {
   "cell_type": "code",
   "execution_count": 5,
   "metadata": {},
   "outputs": [
    {
     "data": {
      "text/plain": [
       "'Drugs'"
      ]
     },
     "execution_count": 5,
     "metadata": {},
     "output_type": "execute_result"
    }
   ],
   "source": [
    "smb_idx_min = result.params.loc['SMB', :].idxmin()\n",
    "ind_rets.columns[smb_idx_min]"
   ]
  },
  {
   "cell_type": "markdown",
   "metadata": {},
   "source": [
    "### Highest tilt toward high-value stocks"
   ]
  },
  {
   "cell_type": "code",
   "execution_count": 6,
   "metadata": {},
   "outputs": [
    {
     "data": {
      "text/plain": [
       "'RlEst'"
      ]
     },
     "execution_count": 6,
     "metadata": {},
     "output_type": "execute_result"
    }
   ],
   "source": [
    "hml_idx_max = result.params.loc['HML', :].idxmax()\n",
    "ind_rets.columns[hml_idx_max]"
   ]
  },
  {
   "cell_type": "markdown",
   "metadata": {},
   "source": [
    "### Highest tilt toward low-value stocks"
   ]
  },
  {
   "cell_type": "code",
   "execution_count": 7,
   "metadata": {},
   "outputs": [
    {
     "data": {
      "text/plain": [
       "'Softw'"
      ]
     },
     "execution_count": 7,
     "metadata": {},
     "output_type": "execute_result"
    }
   ],
   "source": [
    "hml_idx_min = result.params.loc['HML', :].idxmin()\n",
    "ind_rets.columns[hml_idx_min]"
   ]
  },
  {
   "cell_type": "markdown",
   "metadata": {},
   "source": [
    "## Use erk.ff_analysis() to do this pretty quickly\n",
    "\n",
    "### Get the tilts of software returns from 1980 to 2018"
   ]
  },
  {
   "cell_type": "code",
   "execution_count": 8,
   "metadata": {},
   "outputs": [
    {
     "data": {
      "text/html": [
       "<div>\n",
       "<style scoped>\n",
       "    .dataframe tbody tr th:only-of-type {\n",
       "        vertical-align: middle;\n",
       "    }\n",
       "\n",
       "    .dataframe tbody tr th {\n",
       "        vertical-align: top;\n",
       "    }\n",
       "\n",
       "    .dataframe thead th {\n",
       "        text-align: right;\n",
       "    }\n",
       "</style>\n",
       "<table border=\"1\" class=\"dataframe\">\n",
       "  <thead>\n",
       "    <tr style=\"text-align: right;\">\n",
       "      <th></th>\n",
       "      <th>Softw</th>\n",
       "    </tr>\n",
       "  </thead>\n",
       "  <tbody>\n",
       "    <tr>\n",
       "      <th>Mkt-RF</th>\n",
       "      <td>1.244071</td>\n",
       "    </tr>\n",
       "    <tr>\n",
       "      <th>SMB</th>\n",
       "      <td>0.181616</td>\n",
       "    </tr>\n",
       "    <tr>\n",
       "      <th>HML</th>\n",
       "      <td>-0.940287</td>\n",
       "    </tr>\n",
       "    <tr>\n",
       "      <th>Alpha</th>\n",
       "      <td>0.008804</td>\n",
       "    </tr>\n",
       "  </tbody>\n",
       "</table>\n",
       "</div>"
      ],
      "text/plain": [
       "           Softw\n",
       "Mkt-RF  1.244071\n",
       "SMB     0.181616\n",
       "HML    -0.940287\n",
       "Alpha   0.008804"
      ]
     },
     "execution_count": 8,
     "metadata": {},
     "output_type": "execute_result"
    }
   ],
   "source": [
    "ind_rets = erk.get_ind_returns(n_inds=49)['1980':'2018']\n",
    "fff = erk.get_fff_returns()['1980':'2018']\n",
    "softw_rets = ind_rets.loc[:, ['Softw']]\n",
    "\n",
    "erk.ff_analysis(r=softw_rets, factors=fff[['Mkt-RF', 'SMB', 'HML']])"
   ]
  },
  {
   "cell_type": "markdown",
   "metadata": {},
   "source": [
    "### Get the tilts of the Emerging Market returns from the EDHEC hedge fund returns dataset over the same period"
   ]
  },
  {
   "cell_type": "code",
   "execution_count": 19,
   "metadata": {},
   "outputs": [
    {
     "data": {
      "text/plain": [
       "Mkt-RF    0.486529\n",
       "SMB       0.138631\n",
       "HML      -0.012655\n",
       "Alpha     0.003075\n",
       "dtype: float64"
      ]
     },
     "execution_count": 19,
     "metadata": {},
     "output_type": "execute_result"
    }
   ],
   "source": [
    "hfi_rets = erk.get_hfi_returns()['1980':'2018']\n",
    "emr_market_rets = hfi_rets['Emerging Markets']\n",
    "erk.ff_analysis(r=emr_market_rets, factors=fff[['Mkt-RF', 'SMB', 'HML']])"
   ]
  }
 ],
 "metadata": {
  "kernelspec": {
   "display_name": "Python 3",
   "language": "python",
   "name": "python3"
  },
  "language_info": {
   "codemirror_mode": {
    "name": "ipython",
    "version": 3
   },
   "file_extension": ".py",
   "mimetype": "text/x-python",
   "name": "python",
   "nbconvert_exporter": "python",
   "pygments_lexer": "ipython3",
   "version": "3.7.5"
  }
 },
 "nbformat": 4,
 "nbformat_minor": 4
}
