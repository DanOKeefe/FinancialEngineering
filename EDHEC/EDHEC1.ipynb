{
 "cells": [
  {
   "cell_type": "markdown",
   "metadata": {},
   "source": [
    "# Using EDHEC Risk Kit Part 1\n",
    "### Explore use of the library to calculate:\n",
    "- annualized returns\n",
    "- annualized volatility\n",
    "- drawdown at each timestep\n",
    "- max drawdown\n",
    "- semideviation of returns distribution\n",
    "- skewness of returns distribution\n",
    "- kurtosis of returns distribution"
   ]
  },
  {
   "cell_type": "code",
   "execution_count": 32,
   "metadata": {},
   "outputs": [],
   "source": [
    "import numpy as np\n",
    "import pandas as pd\n",
    "import matplotlib.pyplot as plt\n",
    "import edhec_risk_kit as erk"
   ]
  },
  {
   "cell_type": "markdown",
   "metadata": {},
   "source": [
    "### Retrieve the monthly returns for 49 industries from 1960 to 2018"
   ]
  },
  {
   "cell_type": "code",
   "execution_count": 6,
   "metadata": {},
   "outputs": [],
   "source": [
    "df = erk.get_ind_returns(n_inds=49)['1960':]"
   ]
  },
  {
   "cell_type": "markdown",
   "metadata": {},
   "source": [
    "### For the next few statistics, consider a portfolio holding a portfolio holding 100% Beer industry stocks\n",
    "\n",
    "### Calculate the annualized return"
   ]
  },
  {
   "cell_type": "code",
   "execution_count": 9,
   "metadata": {},
   "outputs": [
    {
     "data": {
      "text/plain": [
       "0.11920634382896678"
      ]
     },
     "execution_count": 9,
     "metadata": {},
     "output_type": "execute_result"
    }
   ],
   "source": [
    "erk.annualize_rets(df['Beer'], periods_per_year=12)"
   ]
  },
  {
   "cell_type": "markdown",
   "metadata": {},
   "source": [
    "### Calculate the annualized volatility"
   ]
  },
  {
   "cell_type": "code",
   "execution_count": 10,
   "metadata": {},
   "outputs": [
    {
     "data": {
      "text/plain": [
       "0.17519063591781509"
      ]
     },
     "execution_count": 10,
     "metadata": {},
     "output_type": "execute_result"
    }
   ],
   "source": [
    "erk.annualize_vol(df['Beer'], periods_per_year=12)"
   ]
  },
  {
   "cell_type": "markdown",
   "metadata": {},
   "source": [
    "### Calculate the max drawdown"
   ]
  },
  {
   "cell_type": "code",
   "execution_count": 11,
   "metadata": {},
   "outputs": [
    {
     "data": {
      "text/plain": [
       "0.5855330578251526"
      ]
     },
     "execution_count": 11,
     "metadata": {},
     "output_type": "execute_result"
    }
   ],
   "source": [
    "erk.drawdown(df['Beer'])['Drawdown'].min()*-1"
   ]
  },
  {
   "cell_type": "markdown",
   "metadata": {},
   "source": [
    "### What month did max drawdown occur?"
   ]
  },
  {
   "cell_type": "code",
   "execution_count": 13,
   "metadata": {},
   "outputs": [
    {
     "data": {
      "text/plain": [
       "Period('1974-12', 'M')"
      ]
     },
     "execution_count": 13,
     "metadata": {},
     "output_type": "execute_result"
    }
   ],
   "source": [
    "erk.drawdown(df['Beer'])['Drawdown'].idxmin()"
   ]
  },
  {
   "cell_type": "markdown",
   "metadata": {},
   "source": [
    "### What was it's semideviation?\n",
    "\n",
    "(Standard deviavation among subset negative asset returns)"
   ]
  },
  {
   "cell_type": "code",
   "execution_count": 19,
   "metadata": {},
   "outputs": [
    {
     "data": {
      "text/plain": [
       "0.03417051008448179"
      ]
     },
     "execution_count": 19,
     "metadata": {},
     "output_type": "execute_result"
    }
   ],
   "source": [
    "erk.semideviation(df['Beer'])"
   ]
  },
  {
   "cell_type": "markdown",
   "metadata": {},
   "source": [
    "### Conditional Value at Risk (CVaR)"
   ]
  },
  {
   "cell_type": "code",
   "execution_count": 20,
   "metadata": {},
   "outputs": [
    {
     "data": {
      "text/plain": [
       "0.10638611111111114"
      ]
     },
     "execution_count": 20,
     "metadata": {},
     "output_type": "execute_result"
    }
   ],
   "source": [
    "erk.cvar_historic(df['Beer'], level=5)"
   ]
  },
  {
   "cell_type": "markdown",
   "metadata": {},
   "source": [
    "### Sharpe Ratio"
   ]
  },
  {
   "cell_type": "code",
   "execution_count": 24,
   "metadata": {},
   "outputs": [
    {
     "data": {
      "text/plain": [
       "0.5559722618022646"
      ]
     },
     "execution_count": 24,
     "metadata": {},
     "output_type": "execute_result"
    }
   ],
   "source": [
    "erk.sharpe_ratio(df['Beer'], riskfree_rate=0.02, periods_per_year=12)"
   ]
  },
  {
   "cell_type": "markdown",
   "metadata": {},
   "source": [
    "### Skewness\n",
    "\n",
    "Normal distributions have a skessness of 0"
   ]
  },
  {
   "cell_type": "code",
   "execution_count": 37,
   "metadata": {},
   "outputs": [
    {
     "data": {
      "text/plain": [
       "-0.010471512193777247"
      ]
     },
     "execution_count": 37,
     "metadata": {},
     "output_type": "execute_result"
    }
   ],
   "source": [
    "erk.skewness(df['Beer'])"
   ]
  },
  {
   "cell_type": "markdown",
   "metadata": {},
   "source": [
    "### Kurtosis\n",
    "\n",
    "Normal distributions have a kurtosis of 3"
   ]
  },
  {
   "cell_type": "code",
   "execution_count": 38,
   "metadata": {},
   "outputs": [
    {
     "data": {
      "text/plain": [
       "5.446251021883774"
      ]
     },
     "execution_count": 38,
     "metadata": {},
     "output_type": "execute_result"
    }
   ],
   "source": [
    "erk.kurtosis(df['Beer'])"
   ]
  },
  {
   "cell_type": "markdown",
   "metadata": {},
   "source": [
    "### Do the monthly returns follow the normal distribution?"
   ]
  },
  {
   "cell_type": "code",
   "execution_count": 39,
   "metadata": {},
   "outputs": [
    {
     "data": {
      "text/plain": [
       "False"
      ]
     },
     "execution_count": 39,
     "metadata": {},
     "output_type": "execute_result"
    }
   ],
   "source": [
    "erk.is_normal(df['Beer'], level=0.01)"
   ]
  },
  {
   "cell_type": "markdown",
   "metadata": {},
   "source": [
    "# Compare returns between industries\n",
    "### Which industries had the highest and lowest annual returns?"
   ]
  },
  {
   "cell_type": "code",
   "execution_count": 17,
   "metadata": {},
   "outputs": [
    {
     "name": "stdout",
     "output_type": "stream",
     "text": [
      "Industry with highest annualized return: Smoke\n",
      "Industry with lowest annualized return: Steel\n"
     ]
    }
   ],
   "source": [
    "ind_highest_ret = erk.annualize_rets(df, periods_per_year=12).idxmax()\n",
    "ind_lowest_ret = erk.annualize_rets(df, periods_per_year=12).idxmin()\n",
    "print('Industry with highest annualized return: {0}'.format(ind_highest_ret))\n",
    "print('Industry with lowest annualized return: {0}'.format(ind_lowest_ret))"
   ]
  },
  {
   "cell_type": "code",
   "execution_count": 34,
   "metadata": {},
   "outputs": [
    {
     "data": {
      "image/png": "[encoded data removed]",
      "text/plain": [
       "<Figure size 432x288 with 1 Axes>"
      ]
     },
     "metadata": {
      "needs_background": "light"
     },
     "output_type": "display_data"
    }
   ],
   "source": [
    "erk.annualize_rets(df, periods_per_year=12).sort_values(ascending=False).plot.bar()\n",
    "plt.show()"
   ]
  },
  {
   "cell_type": "markdown",
   "metadata": {},
   "source": [
    "### Which industry returns were most negatively skewed?"
   ]
  },
  {
   "cell_type": "code",
   "execution_count": 29,
   "metadata": {},
   "outputs": [
    {
     "name": "stdout",
     "output_type": "stream",
     "text": [
      "Meals\n"
     ]
    }
   ],
   "source": [
    "print(erk.skewness(df).idxmin())"
   ]
  },
  {
   "cell_type": "markdown",
   "metadata": {},
   "source": [
    "### Which industry returns distributions had the highest kurtosis"
   ]
  },
  {
   "cell_type": "code",
   "execution_count": 40,
   "metadata": {},
   "outputs": [
    {
     "name": "stdout",
     "output_type": "stream",
     "text": [
      "Txtls\n"
     ]
    }
   ],
   "source": [
    "print(erk.kurtosis(df).idxmax())"
   ]
  },
  {
   "cell_type": "markdown",
   "metadata": {},
   "source": [
    "### Display summary stats of all the industries"
   ]
  },
  {
   "cell_type": "code",
   "execution_count": 41,
   "metadata": {},
   "outputs": [
    {
     "data": {
      "text/html": [
       "<div>\n",
       "<style scoped>\n",
       "    .dataframe tbody tr th:only-of-type {\n",
       "        vertical-align: middle;\n",
       "    }\n",
       "\n",
       "    .dataframe tbody tr th {\n",
       "        vertical-align: top;\n",
       "    }\n",
       "\n",
       "    .dataframe thead th {\n",
       "        text-align: right;\n",
       "    }\n",
       "</style>\n",
       "<table border=\"1\" class=\"dataframe\">\n",
       "  <thead>\n",
       "    <tr style=\"text-align: right;\">\n",
       "      <th></th>\n",
       "      <th>Annualized Return</th>\n",
       "      <th>Annualized Vol</th>\n",
       "      <th>Skewness</th>\n",
       "      <th>Kurtosis</th>\n",
       "      <th>Cornish-Fisher VaR (5%)</th>\n",
       "      <th>Historic CVaR (5%)</th>\n",
       "      <th>Sharpe Ratio</th>\n",
       "      <th>Max Drawdown</th>\n",
       "    </tr>\n",
       "  </thead>\n",
       "  <tbody>\n",
       "    <tr>\n",
       "      <th>Food</th>\n",
       "      <td>0.118983</td>\n",
       "      <td>0.149425</td>\n",
       "      <td>0.010944</td>\n",
       "      <td>5.261846</td>\n",
       "      <td>0.058464</td>\n",
       "      <td>0.089978</td>\n",
       "      <td>0.579442</td>\n",
       "      <td>-0.502419</td>\n",
       "    </tr>\n",
       "    <tr>\n",
       "      <th>Beer</th>\n",
       "      <td>0.119206</td>\n",
       "      <td>0.175191</td>\n",
       "      <td>-0.010472</td>\n",
       "      <td>5.446251</td>\n",
       "      <td>0.070081</td>\n",
       "      <td>0.106386</td>\n",
       "      <td>0.495398</td>\n",
       "      <td>-0.585533</td>\n",
       "    </tr>\n",
       "    <tr>\n",
       "      <th>Smoke</th>\n",
       "      <td>0.142585</td>\n",
       "      <td>0.210531</td>\n",
       "      <td>-0.103832</td>\n",
       "      <td>5.398053</td>\n",
       "      <td>0.085722</td>\n",
       "      <td>0.125156</td>\n",
       "      <td>0.520244</td>\n",
       "      <td>-0.598755</td>\n",
       "    </tr>\n",
       "    <tr>\n",
       "      <th>Games</th>\n",
       "      <td>0.105586</td>\n",
       "      <td>0.247243</td>\n",
       "      <td>-0.267419</td>\n",
       "      <td>5.399089</td>\n",
       "      <td>0.108207</td>\n",
       "      <td>0.158553</td>\n",
       "      <td>0.297229</td>\n",
       "      <td>-0.769843</td>\n",
       "    </tr>\n",
       "    <tr>\n",
       "      <th>Books</th>\n",
       "      <td>0.084455</td>\n",
       "      <td>0.200166</td>\n",
       "      <td>-0.035562</td>\n",
       "      <td>5.467605</td>\n",
       "      <td>0.084236</td>\n",
       "      <td>0.122328</td>\n",
       "      <td>0.264533</td>\n",
       "      <td>-0.773244</td>\n",
       "    </tr>\n",
       "    <tr>\n",
       "      <th>Hshld</th>\n",
       "      <td>0.101864</td>\n",
       "      <td>0.162928</td>\n",
       "      <td>-0.292402</td>\n",
       "      <td>4.694151</td>\n",
       "      <td>0.070307</td>\n",
       "      <td>0.101906</td>\n",
       "      <td>0.429105</td>\n",
       "      <td>-0.574849</td>\n",
       "    </tr>\n",
       "    <tr>\n",
       "      <th>Clths</th>\n",
       "      <td>0.107625</td>\n",
       "      <td>0.219375</td>\n",
       "      <td>-0.068181</td>\n",
       "      <td>5.607062</td>\n",
       "      <td>0.091421</td>\n",
       "      <td>0.130592</td>\n",
       "      <td>0.344121</td>\n",
       "      <td>-0.762776</td>\n",
       "    </tr>\n",
       "    <tr>\n",
       "      <th>Hlth</th>\n",
       "      <td>0.115712</td>\n",
       "      <td>0.169800</td>\n",
       "      <td>0.021311</td>\n",
       "      <td>5.292478</td>\n",
       "      <td>0.067646</td>\n",
       "      <td>0.099408</td>\n",
       "      <td>0.491110</td>\n",
       "      <td>-0.470459</td>\n",
       "    </tr>\n",
       "    <tr>\n",
       "      <th>Chems</th>\n",
       "      <td>0.092195</td>\n",
       "      <td>0.189459</td>\n",
       "      <td>-0.120480</td>\n",
       "      <td>5.265948</td>\n",
       "      <td>0.080380</td>\n",
       "      <td>0.111681</td>\n",
       "      <td>0.319275</td>\n",
       "      <td>-0.583971</td>\n",
       "    </tr>\n",
       "    <tr>\n",
       "      <th>Txtls</th>\n",
       "      <td>0.091117</td>\n",
       "      <td>0.244169</td>\n",
       "      <td>0.392389</td>\n",
       "      <td>12.301449</td>\n",
       "      <td>0.084808</td>\n",
       "      <td>0.152728</td>\n",
       "      <td>0.243310</td>\n",
       "      <td>-0.779751</td>\n",
       "    </tr>\n",
       "    <tr>\n",
       "      <th>Cnstr</th>\n",
       "      <td>0.086673</td>\n",
       "      <td>0.206310</td>\n",
       "      <td>-0.209228</td>\n",
       "      <td>5.353412</td>\n",
       "      <td>0.089820</td>\n",
       "      <td>0.127517</td>\n",
       "      <td>0.267098</td>\n",
       "      <td>-0.653868</td>\n",
       "    </tr>\n",
       "    <tr>\n",
       "      <th>Steel</th>\n",
       "      <td>0.045484</td>\n",
       "      <td>0.251254</td>\n",
       "      <td>-0.162875</td>\n",
       "      <td>5.230505</td>\n",
       "      <td>0.112896</td>\n",
       "      <td>0.156942</td>\n",
       "      <td>0.059654</td>\n",
       "      <td>-0.758017</td>\n",
       "    </tr>\n",
       "    <tr>\n",
       "      <th>FabPr</th>\n",
       "      <td>0.092944</td>\n",
       "      <td>0.210181</td>\n",
       "      <td>-0.374673</td>\n",
       "      <td>5.434871</td>\n",
       "      <td>0.093747</td>\n",
       "      <td>0.126603</td>\n",
       "      <td>0.291202</td>\n",
       "      <td>-0.632168</td>\n",
       "    </tr>\n",
       "    <tr>\n",
       "      <th>ElcEq</th>\n",
       "      <td>0.108011</td>\n",
       "      <td>0.214048</td>\n",
       "      <td>-0.185237</td>\n",
       "      <td>4.583170</td>\n",
       "      <td>0.092302</td>\n",
       "      <td>0.124167</td>\n",
       "      <td>0.354455</td>\n",
       "      <td>-0.593946</td>\n",
       "    </tr>\n",
       "    <tr>\n",
       "      <th>Autos</th>\n",
       "      <td>0.071905</td>\n",
       "      <td>0.228836</td>\n",
       "      <td>0.230954</td>\n",
       "      <td>9.082331</td>\n",
       "      <td>0.088097</td>\n",
       "      <td>0.136975</td>\n",
       "      <td>0.177937</td>\n",
       "      <td>-0.779595</td>\n",
       "    </tr>\n",
       "    <tr>\n",
       "      <th>Carry</th>\n",
       "      <td>0.116843</td>\n",
       "      <td>0.216365</td>\n",
       "      <td>-0.297848</td>\n",
       "      <td>4.440610</td>\n",
       "      <td>0.094812</td>\n",
       "      <td>0.129331</td>\n",
       "      <td>0.390382</td>\n",
       "      <td>-0.686437</td>\n",
       "    </tr>\n",
       "    <tr>\n",
       "      <th>Mines</th>\n",
       "      <td>0.074047</td>\n",
       "      <td>0.255915</td>\n",
       "      <td>-0.131921</td>\n",
       "      <td>4.763883</td>\n",
       "      <td>0.112823</td>\n",
       "      <td>0.150311</td>\n",
       "      <td>0.167185</td>\n",
       "      <td>-0.618395</td>\n",
       "    </tr>\n",
       "    <tr>\n",
       "      <th>Coal</th>\n",
       "      <td>0.070662</td>\n",
       "      <td>0.350241</td>\n",
       "      <td>0.172015</td>\n",
       "      <td>5.175953</td>\n",
       "      <td>0.145936</td>\n",
       "      <td>0.212617</td>\n",
       "      <td>0.112539</td>\n",
       "      <td>-0.973579</td>\n",
       "    </tr>\n",
       "    <tr>\n",
       "      <th>Oil</th>\n",
       "      <td>0.104085</td>\n",
       "      <td>0.186097</td>\n",
       "      <td>0.032862</td>\n",
       "      <td>4.250474</td>\n",
       "      <td>0.076726</td>\n",
       "      <td>0.110556</td>\n",
       "      <td>0.387243</td>\n",
       "      <td>-0.492375</td>\n",
       "    </tr>\n",
       "    <tr>\n",
       "      <th>Util</th>\n",
       "      <td>0.096788</td>\n",
       "      <td>0.137050</td>\n",
       "      <td>-0.119541</td>\n",
       "      <td>4.113629</td>\n",
       "      <td>0.056965</td>\n",
       "      <td>0.079622</td>\n",
       "      <td>0.474155</td>\n",
       "      <td>-0.423764</td>\n",
       "    </tr>\n",
       "    <tr>\n",
       "      <th>Telcm</th>\n",
       "      <td>0.095363</td>\n",
       "      <td>0.159542</td>\n",
       "      <td>-0.182987</td>\n",
       "      <td>4.157287</td>\n",
       "      <td>0.068313</td>\n",
       "      <td>0.098486</td>\n",
       "      <td>0.398556</td>\n",
       "      <td>-0.717741</td>\n",
       "    </tr>\n",
       "    <tr>\n",
       "      <th>Servs</th>\n",
       "      <td>0.109708</td>\n",
       "      <td>0.223501</td>\n",
       "      <td>-0.123919</td>\n",
       "      <td>4.319754</td>\n",
       "      <td>0.095789</td>\n",
       "      <td>0.131314</td>\n",
       "      <td>0.346830</td>\n",
       "      <td>-0.740950</td>\n",
       "    </tr>\n",
       "    <tr>\n",
       "      <th>BusEq</th>\n",
       "      <td>0.093688</td>\n",
       "      <td>0.230971</td>\n",
       "      <td>-0.307562</td>\n",
       "      <td>4.846394</td>\n",
       "      <td>0.103076</td>\n",
       "      <td>0.146025</td>\n",
       "      <td>0.268076</td>\n",
       "      <td>-0.835091</td>\n",
       "    </tr>\n",
       "    <tr>\n",
       "      <th>Paper</th>\n",
       "      <td>0.092630</td>\n",
       "      <td>0.174132</td>\n",
       "      <td>-0.130595</td>\n",
       "      <td>5.441633</td>\n",
       "      <td>0.073324</td>\n",
       "      <td>0.103956</td>\n",
       "      <td>0.349849</td>\n",
       "      <td>-0.559444</td>\n",
       "    </tr>\n",
       "    <tr>\n",
       "      <th>Trans</th>\n",
       "      <td>0.098139</td>\n",
       "      <td>0.198147</td>\n",
       "      <td>-0.233774</td>\n",
       "      <td>4.221830</td>\n",
       "      <td>0.086875</td>\n",
       "      <td>0.118978</td>\n",
       "      <td>0.334449</td>\n",
       "      <td>-0.570486</td>\n",
       "    </tr>\n",
       "    <tr>\n",
       "      <th>Whlsl</th>\n",
       "      <td>0.102002</td>\n",
       "      <td>0.192453</td>\n",
       "      <td>-0.321769</td>\n",
       "      <td>5.195884</td>\n",
       "      <td>0.084144</td>\n",
       "      <td>0.118522</td>\n",
       "      <td>0.363894</td>\n",
       "      <td>-0.626924</td>\n",
       "    </tr>\n",
       "    <tr>\n",
       "      <th>Rtail</th>\n",
       "      <td>0.115013</td>\n",
       "      <td>0.184761</td>\n",
       "      <td>-0.186114</td>\n",
       "      <td>5.130936</td>\n",
       "      <td>0.077623</td>\n",
       "      <td>0.108631</td>\n",
       "      <td>0.447615</td>\n",
       "      <td>-0.574016</td>\n",
       "    </tr>\n",
       "    <tr>\n",
       "      <th>Meals</th>\n",
       "      <td>0.113795</td>\n",
       "      <td>0.208563</td>\n",
       "      <td>-0.441333</td>\n",
       "      <td>5.503921</td>\n",
       "      <td>0.092388</td>\n",
       "      <td>0.133078</td>\n",
       "      <td>0.390778</td>\n",
       "      <td>-0.722291</td>\n",
       "    </tr>\n",
       "    <tr>\n",
       "      <th>Fin</th>\n",
       "      <td>0.104483</td>\n",
       "      <td>0.185874</td>\n",
       "      <td>-0.376269</td>\n",
       "      <td>4.686270</td>\n",
       "      <td>0.082196</td>\n",
       "      <td>0.117233</td>\n",
       "      <td>0.389787</td>\n",
       "      <td>-0.718465</td>\n",
       "    </tr>\n",
       "    <tr>\n",
       "      <th>Other</th>\n",
       "      <td>0.071518</td>\n",
       "      <td>0.198965</td>\n",
       "      <td>-0.363725</td>\n",
       "      <td>4.660637</td>\n",
       "      <td>0.090833</td>\n",
       "      <td>0.127072</td>\n",
       "      <td>0.202839</td>\n",
       "      <td>-0.723764</td>\n",
       "    </tr>\n",
       "  </tbody>\n",
       "</table>\n",
       "</div>"
      ],
      "text/plain": [
       "       Annualized Return  Annualized Vol  Skewness   Kurtosis  \\\n",
       "Food            0.118983        0.149425  0.010944   5.261846   \n",
       "Beer            0.119206        0.175191 -0.010472   5.446251   \n",
       "Smoke           0.142585        0.210531 -0.103832   5.398053   \n",
       "Games           0.105586        0.247243 -0.267419   5.399089   \n",
       "Books           0.084455        0.200166 -0.035562   5.467605   \n",
       "Hshld           0.101864        0.162928 -0.292402   4.694151   \n",
       "Clths           0.107625        0.219375 -0.068181   5.607062   \n",
       "Hlth            0.115712        0.169800  0.021311   5.292478   \n",
       "Chems           0.092195        0.189459 -0.120480   5.265948   \n",
       "Txtls           0.091117        0.244169  0.392389  12.301449   \n",
       "Cnstr           0.086673        0.206310 -0.209228   5.353412   \n",
       "Steel           0.045484        0.251254 -0.162875   5.230505   \n",
       "FabPr           0.092944        0.210181 -0.374673   5.434871   \n",
       "ElcEq           0.108011        0.214048 -0.185237   4.583170   \n",
       "Autos           0.071905        0.228836  0.230954   9.082331   \n",
       "Carry           0.116843        0.216365 -0.297848   4.440610   \n",
       "Mines           0.074047        0.255915 -0.131921   4.763883   \n",
       "Coal            0.070662        0.350241  0.172015   5.175953   \n",
       "Oil             0.104085        0.186097  0.032862   4.250474   \n",
       "Util            0.096788        0.137050 -0.119541   4.113629   \n",
       "Telcm           0.095363        0.159542 -0.182987   4.157287   \n",
       "Servs           0.109708        0.223501 -0.123919   4.319754   \n",
       "BusEq           0.093688        0.230971 -0.307562   4.846394   \n",
       "Paper           0.092630        0.174132 -0.130595   5.441633   \n",
       "Trans           0.098139        0.198147 -0.233774   4.221830   \n",
       "Whlsl           0.102002        0.192453 -0.321769   5.195884   \n",
       "Rtail           0.115013        0.184761 -0.186114   5.130936   \n",
       "Meals           0.113795        0.208563 -0.441333   5.503921   \n",
       "Fin             0.104483        0.185874 -0.376269   4.686270   \n",
       "Other           0.071518        0.198965 -0.363725   4.660637   \n",
       "\n",
       "       Cornish-Fisher VaR (5%)  Historic CVaR (5%)  Sharpe Ratio  Max Drawdown  \n",
       "Food                  0.058464            0.089978      0.579442     -0.502419  \n",
       "Beer                  0.070081            0.106386      0.495398     -0.585533  \n",
       "Smoke                 0.085722            0.125156      0.520244     -0.598755  \n",
       "Games                 0.108207            0.158553      0.297229     -0.769843  \n",
       "Books                 0.084236            0.122328      0.264533     -0.773244  \n",
       "Hshld                 0.070307            0.101906      0.429105     -0.574849  \n",
       "Clths                 0.091421            0.130592      0.344121     -0.762776  \n",
       "Hlth                  0.067646            0.099408      0.491110     -0.470459  \n",
       "Chems                 0.080380            0.111681      0.319275     -0.583971  \n",
       "Txtls                 0.084808            0.152728      0.243310     -0.779751  \n",
       "Cnstr                 0.089820            0.127517      0.267098     -0.653868  \n",
       "Steel                 0.112896            0.156942      0.059654     -0.758017  \n",
       "FabPr                 0.093747            0.126603      0.291202     -0.632168  \n",
       "ElcEq                 0.092302            0.124167      0.354455     -0.593946  \n",
       "Autos                 0.088097            0.136975      0.177937     -0.779595  \n",
       "Carry                 0.094812            0.129331      0.390382     -0.686437  \n",
       "Mines                 0.112823            0.150311      0.167185     -0.618395  \n",
       "Coal                  0.145936            0.212617      0.112539     -0.973579  \n",
       "Oil                   0.076726            0.110556      0.387243     -0.492375  \n",
       "Util                  0.056965            0.079622      0.474155     -0.423764  \n",
       "Telcm                 0.068313            0.098486      0.398556     -0.717741  \n",
       "Servs                 0.095789            0.131314      0.346830     -0.740950  \n",
       "BusEq                 0.103076            0.146025      0.268076     -0.835091  \n",
       "Paper                 0.073324            0.103956      0.349849     -0.559444  \n",
       "Trans                 0.086875            0.118978      0.334449     -0.570486  \n",
       "Whlsl                 0.084144            0.118522      0.363894     -0.626924  \n",
       "Rtail                 0.077623            0.108631      0.447615     -0.574016  \n",
       "Meals                 0.092388            0.133078      0.390778     -0.722291  \n",
       "Fin                   0.082196            0.117233      0.389787     -0.718465  \n",
       "Other                 0.090833            0.127072      0.202839     -0.723764  "
      ]
     },
     "execution_count": 41,
     "metadata": {},
     "output_type": "execute_result"
    }
   ],
   "source": [
    "erk.summary_stats(df)"
   ]
  }
 ],
 "metadata": {
  "kernelspec": {
   "display_name": "Python 3",
   "language": "python",
   "name": "python3"
  },
  "language_info": {
   "codemirror_mode": {
    "name": "ipython",
    "version": 3
   },
   "file_extension": ".py",
   "mimetype": "text/x-python",
   "name": "python",
   "nbconvert_exporter": "python",
   "pygments_lexer": "ipython3",
   "version": "3.7.5"
  }
 },
 "nbformat": 4,
 "nbformat_minor": 4
}
