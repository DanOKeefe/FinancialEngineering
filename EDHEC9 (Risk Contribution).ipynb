{
 "cells": [
  {
   "cell_type": "markdown",
   "metadata": {},
   "source": [
    "# Risk Contribution"
   ]
  },
  {
   "cell_type": "code",
   "execution_count": null,
   "metadata": {},
   "outputs": [],
   "source": [
    "import edhec_risk_kit as erk\n",
    "import numpy as np\n",
    "import pandas as pd"
   ]
  },
  {
   "cell_type": "markdown",
   "metadata": {},
   "source": [
    "### Use the 30 industry returns dataset from 1990 to 2015\n",
    "Use cap-weights from 1990-01 as the initial cap-weights"
   ]
  },
  {
   "cell_type": "code",
   "execution_count": 14,
   "metadata": {},
   "outputs": [],
   "source": [
    "ind_rets = erk.get_ind_returns(n_inds=30)['1990':'2018']\n",
    "ind_mcaps = erk.get_ind_market_caps(n_inds=30, weights=True)['1990':'2018']\n",
    "cw_weights = erk.weight_cw(r=ind_rets['1990-01'], cap_weights=ind_mcaps['1990-1'])"
   ]
  },
  {
   "cell_type": "markdown",
   "metadata": {},
   "source": [
    "### Which industry had the highest risk contribution?"
   ]
  },
  {
   "cell_type": "code",
   "execution_count": 15,
   "metadata": {},
   "outputs": [
    {
     "data": {
      "text/plain": [
       "'Fin'"
      ]
     },
     "execution_count": 15,
     "metadata": {},
     "output_type": "execute_result"
    }
   ],
   "source": [
    "cov = ind_rets.cov()\n",
    "cw_rc = erk.risk_contribution(w=cw_weights, cov=cov)\n",
    "cw_rc.idxmax()"
   ]
  },
  {
   "cell_type": "markdown",
   "metadata": {},
   "source": [
    "### Top 5 & Bottom 5 industries in terms of risk contribution?\n",
    "Top 5"
   ]
  },
  {
   "cell_type": "code",
   "execution_count": 16,
   "metadata": {},
   "outputs": [
    {
     "data": {
      "text/plain": [
       "Fin      0.154304\n",
       "Telcm    0.103318\n",
       "BusEq    0.079783\n",
       "Oil      0.078628\n",
       "Hlth     0.054381\n",
       "dtype: float64"
      ]
     },
     "execution_count": 16,
     "metadata": {},
     "output_type": "execute_result"
    }
   ],
   "source": [
    "cw_rc.sort_values(inplace=True, ascending=False)\n",
    "cw_rc.head()"
   ]
  },
  {
   "cell_type": "code",
   "execution_count": 17,
   "metadata": {},
   "outputs": [
    {
     "data": {
      "text/plain": [
       "Meals    0.008078\n",
       "Mines    0.007162\n",
       "Clths    0.005693\n",
       "Txtls    0.003657\n",
       "Coal     0.000549\n",
       "dtype: float64"
      ]
     },
     "execution_count": 17,
     "metadata": {},
     "output_type": "execute_result"
    }
   ],
   "source": [
    "cw_rc.tail()"
   ]
  },
  {
   "cell_type": "markdown",
   "metadata": {},
   "source": [
    "### Top 5 & Bottom 5 contributors to risk if I use the equal-weighted portfolio?"
   ]
  },
  {
   "cell_type": "code",
   "execution_count": 19,
   "metadata": {},
   "outputs": [
    {
     "data": {
      "text/plain": [
       "Steel    0.051301\n",
       "Coal     0.046956\n",
       "Txtls    0.045735\n",
       "Autos    0.044962\n",
       "FabPr    0.044463\n",
       "dtype: float64"
      ]
     },
     "execution_count": 19,
     "metadata": {},
     "output_type": "execute_result"
    }
   ],
   "source": [
    "ew_weights = erk.weight_ew(r=ind_rets['1990-01'], cap_weights=ind_mcaps['1990-1'])\n",
    "ew_rc = erk.risk_contribution(w=ew_weights, cov=cov)\n",
    "ew_rc.sort_values(inplace=True, ascending=False)\n",
    "ew_rc.head()"
   ]
  },
  {
   "cell_type": "code",
   "execution_count": 20,
   "metadata": {},
   "outputs": [
    {
     "data": {
      "text/plain": [
       "Hshld    0.021112\n",
       "Smoke    0.019548\n",
       "Food     0.019267\n",
       "Beer     0.018846\n",
       "Util     0.014544\n",
       "dtype: float64"
      ]
     },
     "execution_count": 20,
     "metadata": {},
     "output_type": "execute_result"
    }
   ],
   "source": [
    "ew_rc.tail()"
   ]
  },
  {
   "cell_type": "markdown",
   "metadata": {},
   "source": [
    "### Compare the largest contribution to portfolio risk in the cap-weight vs equal weighted portfolios"
   ]
  },
  {
   "cell_type": "code",
   "execution_count": 32,
   "metadata": {},
   "outputs": [
    {
     "name": "stdout",
     "output_type": "stream",
     "text": [
      "Max risk contribution of a single asset in the cap-weighted portfolio: 0.15430426349844867\n",
      "Max risk contribution of a single asset in the equal-weighted portfolio: 0.05130070432408191\n"
     ]
    }
   ],
   "source": [
    "print('Max risk contribution of a single asset in the cap-weighted portfolio:', cw_rc.max())\n",
    "print('Max risk contribution of a single asset in the equal-weighted portfolio:', ew_rc.max())"
   ]
  },
  {
   "cell_type": "markdown",
   "metadata": {},
   "source": [
    "### Construct the Equal Risk Contribution portfolio using a sample covariance based on returns from 1990 to 2014\n",
    "\n",
    "### Which industries get the highest/lowest allocations?"
   ]
  },
  {
   "cell_type": "code",
   "execution_count": 28,
   "metadata": {},
   "outputs": [
    {
     "data": {
      "text/plain": [
       "Util     0.062375\n",
       "Beer     0.049559\n",
       "Food     0.049467\n",
       "Hlth     0.046716\n",
       "Smoke    0.045797\n",
       "dtype: float64"
      ]
     },
     "execution_count": 28,
     "metadata": {},
     "output_type": "execute_result"
    }
   ],
   "source": [
    "weights_erc = pd.Series(erk.weight_erc(r=ind_rets['1990':'2014']), index=ind_rets.columns)\n",
    "weights_erc.sort_values(ascending=False, inplace=True)\n",
    "# highest allocation in ERC portfolio\n",
    "weights_erc.head()"
   ]
  },
  {
   "cell_type": "code",
   "execution_count": 29,
   "metadata": {},
   "outputs": [
    {
     "data": {
      "text/plain": [
       "FabPr    0.023851\n",
       "Autos    0.023244\n",
       "Coal     0.022898\n",
       "Txtls    0.022894\n",
       "Steel    0.021020\n",
       "dtype: float64"
      ]
     },
     "execution_count": 29,
     "metadata": {},
     "output_type": "execute_result"
    }
   ],
   "source": [
    "# lowest allocation in ERC portfolio\n",
    "weights_erc.tail()"
   ]
  }
 ],
 "metadata": {
  "kernelspec": {
   "display_name": "Python 3",
   "language": "python",
   "name": "python3"
  },
  "language_info": {
   "codemirror_mode": {
    "name": "ipython",
    "version": 3
   },
   "file_extension": ".py",
   "mimetype": "text/x-python",
   "name": "python",
   "nbconvert_exporter": "python",
   "pygments_lexer": "ipython3",
   "version": "3.7.5"
  }
 },
 "nbformat": 4,
 "nbformat_minor": 4
}
