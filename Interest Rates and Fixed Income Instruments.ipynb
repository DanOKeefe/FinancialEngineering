{
 "cells": [
  {
   "cell_type": "markdown",
   "metadata": {},
   "source": [
    "# Course: Financial Engineering and Risk Management Part 1 by Columbia University\n",
    "### Implementation of Formulas from Lecture \"Interest rates and Fixed Income Intruments\""
   ]
  },
  {
   "cell_type": "code",
   "execution_count": null,
   "metadata": {},
   "outputs": [],
   "source": [
    "import numpy as np"
   ]
  },
  {
   "cell_type": "code",
   "execution_count": 112,
   "metadata": {},
   "outputs": [],
   "source": [
    "def price_bounds_cashflow(c, rb, rl):\n",
    "    \"\"\"\n",
    "    Calculate the PV bounds on a portfolio given an array of cashflows, a borrowing interest rate, and a lending interest rate\n",
    "    Assumes the cashflow payouts are once per year\n",
    "    Assumes the interest rates are annual interest rates\n",
    "    Assumes no arbitrage\n",
    "    Assumes you can borrow/lend unlimited amounts at the given interest rates\n",
    "    Assumes the rates are unchanging throughout the period\n",
    "    \n",
    "    Parameters\n",
    "    ----------\n",
    "    c : array-like\n",
    "        Cashflow at the end of each period\n",
    "    rb: float\n",
    "        borrowing interest rate\n",
    "    rl: float\n",
    "        lending interest rate\n",
    "    \n",
    "    Returns\n",
    "    -------\n",
    "    lb : float\n",
    "        Lower bound on the present value of the portfolio of cashflows\n",
    "    ub : float\n",
    "        Upper bound on the present value of the portfolio of cashflows\n",
    "        \n",
    "    Examples\n",
    "    --------\n",
    "    # assume I can borrow an unlimited amount of money at interest rate 3%\n",
    "    # assume I can lend an unlimited amount of money at interest rate 2%\n",
    "    # calcluate the price bounds on a portfolio of the following cashflows:\n",
    "    # $0 at t=0, $100 at t=1, $100 at t=2\n",
    "    >>> import numpy as np\n",
    "    >>> c = np.asarray([0,100,100])\n",
    "    >>> price_bounds_cashflow(c=c, rb=0.03, rl=0.02)\n",
    "    (191.3469695541521, 194.15609381007306)\n",
    "    \n",
    "    # Does not work with vectorized inputs\n",
    "    \"\"\"\n",
    "    c = np.asarray(c)\n",
    "    if rb < rl: \n",
    "        print('borrowing interest rate must be >= lending interest rate')\n",
    "    lb = np.sum([c_/(1+rb)**k for k, c_ in enumerate(c)])\n",
    "    ub = np.sum([c_/(1+rl)**k for k, c_ in enumerate(c)])\n",
    "    \n",
    "    return (lb, ub)"
   ]
  },
  {
   "cell_type": "code",
   "execution_count": 123,
   "metadata": {},
   "outputs": [],
   "source": [
    "def price_perpetuity(A, r):\n",
    "    \"\"\"\n",
    "    Calculate price of a perpetuity\n",
    "    Assuming you can borrow or lend unlimited amounts at the interest rate r\n",
    "    This is a type of fixed-income security that has default risk, inflation risk, and market risk\n",
    "    \n",
    "    Parameters\n",
    "    ----------\n",
    "    A : array-like\n",
    "        Fixed cashflow amount at the end of each period\n",
    "    r : array-like\n",
    "        Interest rate\n",
    "        \n",
    "    Returns\n",
    "    -------\n",
    "    out : array-like\n",
    "        Present value of a series of perpetuities\n",
    "        \n",
    "    Examples\n",
    "    --------\n",
    "    # Price of a perpetuity at pays $100/year if you can borrow and lend unlimited amounts at an interest rate of 3.5%\n",
    "    >>> price_perpetuity(100, 0.035)\n",
    "    2857.142857142857\n",
    "    \n",
    "    # Works with vectorized inputs/outputs\n",
    "    >>> price_perpetuity([100,200], 0.035)\n",
    "    [2857.14285714 5714.28571429]\n",
    "    \n",
    "    >>> price_perpetuity([100,100], [0.02,0.04])\n",
    "    array([5000., 2500.])\n",
    "    \n",
    "    # same as\n",
    "    >>> price_perpetuity(100, [0.02,0.04])\n",
    "    array([5000., 2500.])\n",
    "    \"\"\"\n",
    "    # np.sum([np.divide(A,(1+r)**k) for k in range(np.inf)]) = A/r\n",
    "    A = np.asarray(A)\n",
    "    r = np.asarray(r)\n",
    "    return A/r"
   ]
  },
  {
   "cell_type": "code",
   "execution_count": 146,
   "metadata": {},
   "outputs": [],
   "source": [
    "def price_annuity(A, r, n):\n",
    "    \"\"\"\n",
    "    Calculate price of an annuity\n",
    "    Assuming you can borrow or lend unlimited amounts at the interest rate r\n",
    "    This is a type of fixed-income security that has default risk, inflation risk, and market risk\n",
    "    \n",
    "    Annuity = Perpetuity - Perpetuity starting in year n+1\n",
    "    Annuity price = A/r - (A/r)/(1+r)**n = (A/r)*(1-1/(1+r)**n)\n",
    "    \n",
    "    Parameters\n",
    "    ----------\n",
    "    A : array-like\n",
    "        Fixed cashflow amount at the end of year period\n",
    "    r : array-like\n",
    "        Interest rate\n",
    "        \n",
    "    Returns\n",
    "    -------\n",
    "    out : array-like\n",
    "        Present value of a series of annuities\n",
    "        \n",
    "    Examples\n",
    "    --------\n",
    "    # price of a 30-year annuity with payments of $100/year while you can borrow/lend money at a 2.5% interest rate\n",
    "    >>> price_annuity(100, 0.025, 30)\n",
    "    2093.0292592761148\n",
    "    \n",
    "    # Can handle vectorized inputs/outputs\n",
    "    # Calculate price of two different annuities:\n",
    "    # first is a 10-year annuity that pays $100/year while you can borrow/lend money at a 2.5% interest rate\n",
    "    # second is a 30-year annuity that pays $150/year while you can borrow/lend money at a 2.5% interest rate\n",
    "    >>> price_annuity([100,150], 0.025, [10,30])\n",
    "    [ 875.2063931  3139.54388891]\n",
    "    \n",
    "    \n",
    "    \"\"\"\n",
    "    A = np.asarray(A)\n",
    "    r = np.asarray(r)\n",
    "    n = np.asarray(n)\n",
    "    return (A/r)*(1-(1/(1+r)**n))"
   ]
  },
  {
   "cell_type": "code",
   "execution_count": 136,
   "metadata": {},
   "outputs": [],
   "source": [
    "def price_bond(F, r, T, ytm):\n",
    "    \"\"\"\n",
    "    Calculate price of a bond\n",
    "    F is the face value (usually 100 or 1000)\n",
    "    r is the coupon rate. Pays c=rF/2 every six months\n",
    "    Maturity T: Number of years until maturity of the bond\n",
    "    ytm : yield to maturity\n",
    "    \n",
    "    Parameters\n",
    "    ----------\n",
    "    F\n",
    "    r\n",
    "    T\n",
    "    ytm\n",
    "    \n",
    "    Returns\n",
    "    -------\n",
    "    out :\n",
    "        Estimated market price of the bond\n",
    "    \n",
    "    Examples\n",
    "    --------\n",
    "    # Price of a bond with face value $100, coupon rate of 2%, 5 years to maturity, and a yield to maturity of 1%\n",
    "    >>> price_bond(100, 0.02, 5, 0.01)\n",
    "    104.86520593039322\n",
    "    \n",
    "    # Vectorized example\n",
    "    >>> price_bond([100, 1000], 0.02, 5, [0.01, 0.02])\n",
    "    [ 199.57825124 1009.73041186]\n",
    "    \"\"\"\n",
    "    F = np.asarray(F)\n",
    "    r = np.asarray(r)\n",
    "    T = np.asarray(T)\n",
    "    ytm = np.asarray(ytm)\n",
    "    \n",
    "    c = r*F/2\n",
    "    return np.sum([c/(1+ytm/2)**k for k in np.arange(1, 2*T+1)], axis=0) + F/(1+ytm/2)**(2*T)"
   ]
  },
  {
   "cell_type": "markdown",
   "metadata": {},
   "source": [
    "### Why do we think in terms of yields?\n",
    "- Summarizes face value, coupon, maturity, and quality\n",
    "- Relates to quality: lower quality -> lower price -> higher yield to maturity\n",
    "- Relates to interest rate movements\n",
    "\n",
    "But ... yield to maturity is a crude measure. Does not capture everything.\n",
    "\n",
    "Lower quality means lower price, which means higher yield to maturity.\n",
    "- Cash payments in the future are going to be discounted with a higher interest rate. Why a higher interest rate? Because I'm not certain that those cash payments are going to come, and therefore I want to discount them very strongly.\n",
    "- Yield to maturity therefore gives us a way to think about different bonds and compare them. It's a very crude measure because it's trying to summarize four different numbers by a single number\n",
    "\n",
    "current yield = annualized coupon / current price\n",
    "YTM = anticipated annual return if you hold a bond until it matures\n",
    "- accounts for the present value of all of the future coupons of the bond\n",
    "- need to know market price, par value, coupon interest rate, and time to maturity to calculate YTM\n",
    "- assumes coupon yields are reinvested at the same rate of the bond's current yield\n",
    "\n",
    "YTM = (Face Value / Current Value)**(1/n) - 1\n",
    "\n",
    "The yield to maturity is the annual interest rate at which the current price for the bond P is exactly equal to the present value of the coupon payments plus the face value\n",
    "\n",
    "So you take all the coupons and you discount them at the rate lambda over 2."
   ]
  },
  {
   "cell_type": "markdown",
   "metadata": {},
   "source": [
    "### Verification for price_bond() vectorized"
   ]
  },
  {
   "cell_type": "code",
   "execution_count": 142,
   "metadata": {},
   "outputs": [
    {
     "name": "stdout",
     "output_type": "stream",
     "text": [
      "[ 104.86520593 1000.        ]\n",
      "104.86520593039322\n",
      "1000.0\n"
     ]
    }
   ],
   "source": [
    "# calcluate the price of two different bonds that pay twice per year:\n",
    "# First one has a face value of $100, coupon rate of 2%, 5 years to maturity, and a yield to maturity of 1%\n",
    "# Second one has a face value of $1000, coupon rate of 2%, 5 years to maturity, and a yield to maturity of 2%\n",
    "# also verify individually that it is producing the correct results\n",
    "print(price_bond([100, 1000], 0.02, 5, [0.01, 0.02]))\n",
    "print(price_bond(100, 0.02, 5, 0.01))\n",
    "print(price_bond(1000, 0.02, 5, 0.02))"
   ]
  },
  {
   "cell_type": "markdown",
   "metadata": {},
   "source": [
    "### Verification for price_annuity() vectorized"
   ]
  },
  {
   "cell_type": "code",
   "execution_count": 143,
   "metadata": {},
   "outputs": [
    {
     "name": "stdout",
     "output_type": "stream",
     "text": [
      "2093.0292592761148\n",
      "[ 875.2063931  3139.54388891]\n",
      "875.2063930970908\n",
      "3139.5438889141724\n"
     ]
    }
   ],
   "source": [
    "# price of a 30-year annuity with payments of $100/year while you can borrow/lend money at a 2.5% interest rate\n",
    "print(price_annuity(100, 0.025, 30))\n",
    "print(price_annuity([100,150], 0.025, [10,30]))\n",
    "print(price_annuity(100, 0.025, 10))\n",
    "print(price_annuity(150, 0.025, 30))"
   ]
  },
  {
   "cell_type": "markdown",
   "metadata": {},
   "source": [
    "### Verification for price_perpetuity() vectorized"
   ]
  },
  {
   "cell_type": "code",
   "execution_count": 144,
   "metadata": {},
   "outputs": [
    {
     "name": "stdout",
     "output_type": "stream",
     "text": [
      "[4000. 6000.]\n",
      "4000.0\n",
      "6000.0\n"
     ]
    }
   ],
   "source": [
    "# price of a 30-year perpetuity with payments of $100/year while you can borrow/lend money at a 2.5% interest rate\n",
    "print(price_perpetuity([100,150], 0.025))\n",
    "print(price_perpetuity(100, 0.025))\n",
    "print(price_perpetuity(150, 0.025))"
   ]
  },
  {
   "cell_type": "code",
   "execution_count": 159,
   "metadata": {},
   "outputs": [
    {
     "data": {
      "text/plain": [
       "(4682460.045867208, 4682460.045867208)"
      ]
     },
     "execution_count": 159,
     "metadata": {},
     "output_type": "execute_result"
    }
   ],
   "source": [
    "# 1.) pv of lottery winnings\n",
    "c = [500000]*20\n",
    "price_bounds_cashflow(c, 0.1, 0.1)"
   ]
  },
  {
   "cell_type": "code",
   "execution_count": 153,
   "metadata": {},
   "outputs": [
    {
     "name": "stdout",
     "output_type": "stream",
     "text": [
      "cost of current apartment (4037.349346626405, 4037.349346626405)\n",
      "cost of new other apartment (4533.614411963764, 4533.614411963764)\n"
     ]
    }
   ],
   "source": [
    "# 2.) comparing costs of apartments\n",
    "print('cost of current apartment', price_bounds_cashflow(c=[1000, 1000, 1000, 1000, 1000, 0], rb=0.12, rl=0.12))\n",
    "print('cost of new other apartment', price_bounds_cashflow(c=[1800, 900, 900, 900, 900, 0], rb=0.12, rl=0.12))"
   ]
  },
  {
   "cell_type": "code",
   "execution_count": 168,
   "metadata": {},
   "outputs": [
    {
     "data": {
      "text/plain": [
       "0.8750736155679097"
      ]
     },
     "execution_count": 168,
     "metadata": {},
     "output_type": "execute_result"
    }
   ],
   "source": [
    "# 3.) d(0,2) given 2 year spot rate = 6.9%\n",
    "1/(1.069)**2"
   ]
  },
  {
   "cell_type": "code",
   "execution_count": 169,
   "metadata": {},
   "outputs": [
    {
     "data": {
      "text/plain": [
       "0.07503386641580434"
      ]
     },
     "execution_count": 169,
     "metadata": {},
     "output_type": "execute_result"
    }
   ],
   "source": [
    "# 4.) f[1,2] given s1=6.3% and s2=6.9%\n",
    "(1.069**2)/1.063 -1"
   ]
  },
  {
   "cell_type": "code",
   "execution_count": 172,
   "metadata": {},
   "outputs": [
    {
     "data": {
      "text/plain": [
       "424.48320000000007"
      ]
     },
     "execution_count": 172,
     "metadata": {},
     "output_type": "execute_result"
    }
   ],
   "source": [
    "\"\"\"\n",
    "5.)\n",
    "Forward contract on a stock\n",
    "\n",
    "The current price of a stock is $400 per share and it pays no dividends. \n",
    "Assuming a constant interest rate of 8% per year compounded quarterly, what is the stock's theoretical forward price for delivery in 9 months?\n",
    "\"\"\"\n",
    "400*(1+0.08/4)**3"
   ]
  },
  {
   "cell_type": "code",
   "execution_count": 171,
   "metadata": {},
   "outputs": [
    {
     "data": {
      "text/plain": [
       "25000.0"
      ]
     },
     "execution_count": 171,
     "metadata": {},
     "output_type": "execute_result"
    }
   ],
   "source": [
    "\"\"\"\n",
    "6.)\n",
    "Bounds using different lending and borrowing rate\n",
    "\n",
    "Suppose the borrowing rate r_B=10% compounded annually. However,\n",
    "\n",
    "the lending rate (or equivalently, the interest rate on deposits) is\n",
    "\n",
    "only 8% compounded annually. Compute the difference between the upper\n",
    "\n",
    "and lower bounds on the price of an perpetuity that pays A=10,000$ per\n",
    "\n",
    "year.\n",
    "\"\"\"\n",
    "price_perpetuity(10000, 0.08) - price_perpetuity(10000, .1)"
   ]
  },
  {
   "cell_type": "code",
   "execution_count": 170,
   "metadata": {},
   "outputs": [
    {
     "data": {
      "text/plain": [
       "20.0"
      ]
     },
     "execution_count": 170,
     "metadata": {},
     "output_type": "execute_result"
    }
   ],
   "source": [
    "\"\"\"\n",
    "7.)\n",
    "Value of a Forward contract at an intermediate time\n",
    "\n",
    "Suppose we hold a forward contract on a stock with expiration 66 months from now. \n",
    "We entered into this contract 66 months ago so that when we entered into the contract, the expiration was T = 1 year. \n",
    "The stock price 6 months ago was S_0 = 100, the current stock price is 125 and the current interest rate is r = 10%\n",
    "compounded semi-annually. (This is the same rate that prevailed 66 months ago.) What is the current value of our forward contract?\n",
    "\n",
    "S[0]=1000\n",
    "S[0.5]=125\n",
    "r=10%\n",
    "F[0] = S[0]*(1+ .1/2)**2 = 110.25\n",
    "F[0.5] = S[0.5]*(1+ .1/2) = 131.25\n",
    "f[0.5] = (F[0.5]-F[0])*d(t,T) = \n",
    "\"\"\"\n",
    "\n",
    "(131.25-110.25)*(1/(1.05))"
   ]
  },
  {
   "cell_type": "code",
   "execution_count": 176,
   "metadata": {},
   "outputs": [
    {
     "data": {
      "text/plain": [
       "array(5812701.82992465)"
      ]
     },
     "execution_count": 176,
     "metadata": {},
     "output_type": "execute_result"
    }
   ],
   "source": [
    "price_perpetuity(27000*4, 0.01858)"
   ]
  },
  {
   "cell_type": "code",
   "execution_count": 175,
   "metadata": {},
   "outputs": [
    {
     "data": {
      "text/plain": [
       "108000"
      ]
     },
     "execution_count": 175,
     "metadata": {},
     "output_type": "execute_result"
    }
   ],
   "source": [
    "27000*4"
   ]
  },
  {
   "cell_type": "code",
   "execution_count": 178,
   "metadata": {},
   "outputs": [
    {
     "data": {
      "text/plain": [
       "1790395.371077373"
      ]
     },
     "execution_count": 178,
     "metadata": {},
     "output_type": "execute_result"
    }
   ],
   "source": [
    "price_annuity(27000*4, 0.01858, 20)"
   ]
  },
  {
   "cell_type": "code",
   "execution_count": null,
   "metadata": {},
   "outputs": [],
   "source": []
  }
 ],
 "metadata": {
  "kernelspec": {
   "display_name": "Python 3",
   "language": "python",
   "name": "python3"
  },
  "language_info": {
   "codemirror_mode": {
    "name": "ipython",
    "version": 3
   },
   "file_extension": ".py",
   "mimetype": "text/x-python",
   "name": "python",
   "nbconvert_exporter": "python",
   "pygments_lexer": "ipython3",
   "version": "3.6.3"
  }
 },
 "nbformat": 4,
 "nbformat_minor": 2
}
