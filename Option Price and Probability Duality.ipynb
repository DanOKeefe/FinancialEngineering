{
 "cells": [
  {
   "cell_type": "markdown",
   "metadata": {},
   "source": [
    "# Option Price and Probability Duality\n",
    "- from https://www.youtube.com/watch?v=eG_aRPy1KVE\n",
    "\n",
    "### Assets, all defined by their payouts, with maturity T and some underlying asset S\n",
    "\n",
    "### Call Option\n",
    "- Payout at T :   $max(S_T-K, 0)$\n",
    "- Value at t<=T : $C_K(t, T)$\n",
    "\n",
    "### Zero-Coupon Bond\n",
    "- Payout at T :   $1$\n",
    "- Value at t<=T : $Z(t, T)$\n",
    "\n",
    "### Digital Option\n",
    "- Payout at T :   $I\\{S_T > K\\}$\n",
    "- Value at t<=T : $D_K(t, T)$\n",
    "---\n",
    "\n",
    "##### Black-Scholes and other option pricing formula are all about determining price for $t < T$ \n",
    "\n",
    "---\n",
    "\n",
    "#### Consider portfolio:\n",
    "- $\\lambda$ calls with strike $K$, -$\\lambda$ calls with strike $K+\\frac{1}{\\lambda}$\n",
    "- Price at t\n",
    "    - $\\lambda C_K(t, T) - \\lambda C_{K+\\frac{1}{\\lambda}}(t, T)$\n",
    "    - Notice this would give us $-\\frac{\\partial C_K(t,T)}{\\partial K}$ as $\\lambda$ -> $\\infty$\n",
    "    - and $-\\frac{\\partial C_K(t,T)}{\\partial K}$ = $D_K(t, T) = Z(t, T)\\mathbf{E}[I\\{S_T>K\\}] = Z(t, T)P(S_T>K)$\n",
    "    - the expected value of the indicator function is the probability of the event\n",
    "- Payout at T :\n",
    "\n",
    "by the Fundamental Theorem of Asset Pricing: price at t is the expected payout at time T suitably discounted\n"
   ]
  },
  {
   "cell_type": "code",
   "execution_count": 46,
   "metadata": {},
   "outputs": [
    {
     "name": "stdout",
     "output_type": "stream",
     "text": [
      "The autoreload extension is already loaded. To reload it, use:\n",
      "  %reload_ext autoreload\n"
     ]
    }
   ],
   "source": [
    "import numpy as np\n",
    "import pandas as pd\n",
    "import oc\n",
    "import yfinance as yf\n",
    "import matplotlib.pyplot as plt\n",
    "%matplotlib inline\n",
    "%load_ext autoreload\n",
    "%autoreload 2"
   ]
  },
  {
   "cell_type": "code",
   "execution_count": 2,
   "metadata": {},
   "outputs": [],
   "source": [
    "# payout of a option at time T\n",
    "def option_payout(K, quantity=1, call=True, S=None):\n",
    "    \"\"\"\n",
    "    Calculate the payout of a call or put option\n",
    "    \n",
    "    Parameters\n",
    "    ----------\n",
    "    K : float\n",
    "        Strike price\n",
    "    quantity : float\n",
    "        Number of options\n",
    "    calls : boolean\n",
    "        True if call. False if put.\n",
    "    S : array-like\n",
    "        Considered ending stock values to include in output dataframe\n",
    "    \n",
    "    Returns\n",
    "    -------\n",
    "    out : pd.DataFrame\n",
    "        DataFrame with index S (considered ending stock values)\n",
    "        and a column Payout indicating the payout of the option(s)\n",
    "        if the ending stock price at maturity is S.\n",
    "        \n",
    "    Example\n",
    "    -------\n",
    "    payout = option_payout(K=100)\n",
    "    payout.plot(title='Option Payout', figsize=(5,3))\n",
    "    \"\"\"\n",
    "    \n",
    "    \n",
    "    # option to specify S, the potential ending stock values\n",
    "    if S is None:\n",
    "        print('default S')\n",
    "        S = np.linspace(0, 2*K, 1000)\n",
    "    if call:\n",
    "        payout = np.multiply(quantity, [np.maximum(s-K, 0) for s in S])\n",
    "    else:\n",
    "        payout = np.multiply(quantity, [np.maximum(K-s, 0) for s in S])\n",
    "    \n",
    "    return pd.DataFrame(data={'Payout':payout}, index=S)"
   ]
  },
  {
   "cell_type": "markdown",
   "metadata": {},
   "source": [
    "### Displaying the results of this function with a call options with strike price 100"
   ]
  },
  {
   "cell_type": "code",
   "execution_count": 3,
   "metadata": {},
   "outputs": [
    {
     "name": "stdout",
     "output_type": "stream",
     "text": [
      "default S\n"
     ]
    },
    {
     "data": {
      "image/png": "[encoded data removed]",
      "text/plain": [
       "<Figure size 360x216 with 1 Axes>"
      ]
     },
     "metadata": {
      "needs_background": "light"
     },
     "output_type": "display_data"
    }
   ],
   "source": [
    "# payout of a call with a $100 strike price\n",
    "payout = option_payout(100)\n",
    "\n",
    "payout.plot(title='Option Payout', figsize=(5,3))\n",
    "plt.ylabel('Payout')\n",
    "plt.xlabel('S_T')\n",
    "plt.show()"
   ]
  },
  {
   "cell_type": "markdown",
   "metadata": {},
   "source": [
    "### Determining the payout of a portfolio with multiple options"
   ]
  },
  {
   "cell_type": "code",
   "execution_count": 4,
   "metadata": {},
   "outputs": [
    {
     "data": {
      "image/png": "[encoded data removed]",
      "text/plain": [
       "<Figure size 360x216 with 1 Axes>"
      ]
     },
     "metadata": {
      "needs_background": "light"
     },
     "output_type": "display_data"
    }
   ],
   "source": [
    "# payout of a portfolio with lambda calls with a $100 strike - lambda calls with a $100 + 1/lambda strike\n",
    "l=0.05\n",
    "K=100\n",
    "S = np.linspace(0, 2*K, 1000)\n",
    "asset1 = option_payout(100, quantity=l, S=S)\n",
    "asset2 = option_payout(100+1/l, quantity=l, S=S)\n",
    "\n",
    "# make sure to use the same S as index\n",
    "portfolio = asset1 - asset2\n",
    "\n",
    "portfolio.plot(title='Option Payout', figsize=(5,3))\n",
    "plt.ylabel('Payout')\n",
    "plt.xlabel('S_T')\n",
    "plt.show()"
   ]
  },
  {
   "cell_type": "markdown",
   "metadata": {},
   "source": [
    "### Creating a digital option with regular call options"
   ]
  },
  {
   "cell_type": "code",
   "execution_count": 5,
   "metadata": {},
   "outputs": [
    {
     "data": {
      "image/png": "[encoded data removed]",
      "text/plain": [
       "<Figure size 360x216 with 1 Axes>"
      ]
     },
     "metadata": {
      "needs_background": "light"
     },
     "output_type": "display_data"
    }
   ],
   "source": [
    "\"\"\"\n",
    "let l -> infinity\n",
    "payout converges to the digital payout\n",
    "\"\"\"\n",
    "# payout of a portfolio with lambda calls with a $100 strike - lambda calls with a $100 + 1/lambda strike\n",
    "l=10000\n",
    "K=100\n",
    "S = np.linspace(0, 2*K, 1000)\n",
    "asset1 = option_payout(100, quantity=l, S=S)\n",
    "asset2 = option_payout(100+1/l, quantity=l, S=S)\n",
    "\n",
    "# make sure I used the same S as index\n",
    "portfolio = asset1 - asset2\n",
    "\n",
    "portfolio.plot(title='Option Payout', figsize=(5,3))\n",
    "plt.ylabel('Payout')\n",
    "plt.xlabel('S_T')\n",
    "plt.show()"
   ]
  },
  {
   "cell_type": "markdown",
   "metadata": {},
   "source": [
    "from $-\\frac{\\partial C_K}{\\partial K}$ = $D_K(t, T) = Z(t, T)\\mathbf{E}[I\\{S_T>K\\} | S_t] = Z(t, T)P(S_T>K)$,\n",
    "- we can see that the price of the digital is the probability of the event suitably discounted\n",
    "- we also see that the derivative of the call price with respect to the strike price equals the discounted probability of the stock being above K\n",
    "- We can reorganize this to get cumulative distribution function (which is $1-P(S_T>K | S_t)$)\n",
    "- CDF: $P(S_T<K) = 1+\\frac{\\partial C_K(t,T)}{\\partial K}\\frac{1}{Z(t,T)}$\n",
    "    - Differentiate the CDF to get the PDF\n",
    "- Let $f_{S_T}(x)$ be the probability density function of random variable $S_T$, the the price of the stock at time $t=T$\n",
    "    - $f_{S_T}(x) = \\frac{\\partial^{2} C_K}{Z(t,T)\\partial K^{2}} |_x$\n",
    "- We now have a linkage between the call price of options and the density of the random variable that is the underlying stock price at $t=T$\n",
    "    - Given the set of call prices for all K, I can then uniquely determine the density of the underlying asset price at time $t=T$\n",
    "        - {$C_K(t,T); \\forall K$} $-> f_{S_T | S_t}(x)$\n",
    "\n",
    "##### There's another way of accessing this probablity density function through another portfolio of options\n",
    "##### Consider another portfolio:\n",
    "- $\\lambda$ calls with strike $K-\\frac{1}{\\lambda}$\n",
    "- -2 $\\lambda$ calls with strike $K$\n",
    "- $\\lambda$ calls with strike $K+\\frac{1}{\\lambda}$\n",
    "\n",
    "This portfolio is called a call butterfly. The right scaling of this portfolio is going to approxiate the second derivative of the price of the call option w.r.t K, which is the same as approximating the density function.\n",
    "\n",
    "The price of this portfolio is:\n",
    "- Price = $\\lambda(C_{K-\\frac{1}{\\lambda}}(t,T)-C_K(t,T)) -\\lambda(C_K(t,T)-C_{K+\\frac{1}{\\lambda}}(t,T)) = B_{K,\\lambda}(t,T)$\n",
    "    - It's the difference between two call spreads. Price K centered at K with width $\\frac{1}{\\lambda}$\n",
    "    - Take limits of this suitably scaled to get the second derivative\n",
    "    \n",
    "$\\lambda B_{K,\\lambda }(t,T) = \\frac{\\partial^{2} C_K(t,T)}{\\partial K^{2}}$\n",
    "\n",
    "For large $\\lambda, B_{K,\\lambda}(t,T) = \\frac{1}{\\lambda}f(x) |_K$\n",
    "\n",
    "You say that the density function at x times a small interval gives you the probability of being in that interval\n",
    "- People look at the prices of butterflies to get the probability of assets values ending up at around K at a given time.\n",
    "    - Don't need any model for options prices for these relationships to hold.\n",
    "    - If you were to put the Black-Scholes formula into C and take the second derivative wrt K, you'll end up with a log normal distribution"
   ]
  },
  {
   "cell_type": "markdown",
   "metadata": {},
   "source": [
    "### Calculate the payout of a butteryfly spread"
   ]
  },
  {
   "cell_type": "code",
   "execution_count": 6,
   "metadata": {},
   "outputs": [
    {
     "data": {
      "image/png": "[encoded data removed]",
      "text/plain": [
       "<Figure size 360x216 with 1 Axes>"
      ]
     },
     "metadata": {
      "needs_background": "light"
     },
     "output_type": "display_data"
    }
   ],
   "source": [
    "\"\"\"\n",
    "let l -> infinity\n",
    "try using different values of l (lambda). As lambda increases, the interval shrinks.\n",
    "\"\"\"\n",
    "# payout of a portfolio with lambda calls with a $100 strike - lambda calls with a $100 + 1/lambda strike\n",
    "l=0.2\n",
    "K=100\n",
    "S = np.linspace(0, 2*K, 1000)\n",
    "asset1 = option_payout(K=100-1/l, quantity=l, S=S)\n",
    "asset2 = option_payout(K=100, quantity=l, S=S)\n",
    "asset3 = option_payout(K=100+1/l, quantity=l, S=S)\n",
    "\n",
    "# make sure I used the same S as index\n",
    "portfolio = asset1 - 2*asset2 + asset3\n",
    "\n",
    "portfolio.plot(title='Option Payout', figsize=(5,3))\n",
    "plt.ylabel('Payout')\n",
    "plt.xlabel('S_T')\n",
    "plt.show()"
   ]
  },
  {
   "cell_type": "markdown",
   "metadata": {},
   "source": [
    "### Pull data from a real option chain to see how much an asset like this would cost."
   ]
  },
  {
   "cell_type": "code",
   "execution_count": 7,
   "metadata": {},
   "outputs": [
    {
     "name": "stdout",
     "output_type": "stream",
     "text": [
      "2020-01-31 00:00:00\n",
      "2019-01-31 00:00:00\n"
     ]
    }
   ],
   "source": [
    "# debugging\n",
    "print(pd.to_datetime(1580428800, unit='s'))\n",
    "print(pd.to_datetime(1548892800, unit='s')) # I was off by a year...."
   ]
  },
  {
   "cell_type": "code",
   "execution_count": 167,
   "metadata": {},
   "outputs": [
    {
     "name": "stdout",
     "output_type": "stream",
     "text": [
      "1580428800\n",
      "2020-01-31 00:00:00\n",
      "https://finance.yahoo.com/quote/AAPL/options?p=AAPL&date=1580428800\n"
     ]
    }
   ],
   "source": [
    "# retrieve apple's option chain on Jan 31st 2020\n",
    "aapl_oc = oc.get_options_chain('AAPL', date='2020-01-31')\n",
    "calls = pd.DataFrame(aapl_oc['calls'])"
   ]
  },
  {
   "cell_type": "code",
   "execution_count": 168,
   "metadata": {},
   "outputs": [
    {
     "data": {
      "text/html": [
       "<div>\n",
       "<style scoped>\n",
       "    .dataframe tbody tr th:only-of-type {\n",
       "        vertical-align: middle;\n",
       "    }\n",
       "\n",
       "    .dataframe tbody tr th {\n",
       "        vertical-align: top;\n",
       "    }\n",
       "\n",
       "    .dataframe thead th {\n",
       "        text-align: right;\n",
       "    }\n",
       "</style>\n",
       "<table border=\"1\" class=\"dataframe\">\n",
       "  <thead>\n",
       "    <tr style=\"text-align: right;\">\n",
       "      <th></th>\n",
       "      <th>Contract Name</th>\n",
       "      <th>Last Trade Date</th>\n",
       "      <th>Strike</th>\n",
       "      <th>Last Price</th>\n",
       "      <th>Bid</th>\n",
       "      <th>Ask</th>\n",
       "      <th>Change</th>\n",
       "      <th>% Change</th>\n",
       "      <th>Volume</th>\n",
       "      <th>Open Interest</th>\n",
       "      <th>Implied Volatility</th>\n",
       "    </tr>\n",
       "  </thead>\n",
       "  <tbody>\n",
       "    <tr>\n",
       "      <th>36</th>\n",
       "      <td>AAPL200131C00300000</td>\n",
       "      <td>2020-01-24 9:51AM EST</td>\n",
       "      <td>300.0</td>\n",
       "      <td>23.40</td>\n",
       "      <td>23.25</td>\n",
       "      <td>23.60</td>\n",
       "      <td>2.11</td>\n",
       "      <td>+9.91%</td>\n",
       "      <td>118</td>\n",
       "      <td>22336</td>\n",
       "      <td>76.79%</td>\n",
       "    </tr>\n",
       "    <tr>\n",
       "      <th>37</th>\n",
       "      <td>AAPL200131C00302500</td>\n",
       "      <td>2020-01-23 3:52PM EST</td>\n",
       "      <td>302.5</td>\n",
       "      <td>20.10</td>\n",
       "      <td>21.10</td>\n",
       "      <td>21.30</td>\n",
       "      <td>1.20</td>\n",
       "      <td>+6.35%</td>\n",
       "      <td>7</td>\n",
       "      <td>1218</td>\n",
       "      <td>73.25%</td>\n",
       "    </tr>\n",
       "    <tr>\n",
       "      <th>38</th>\n",
       "      <td>AAPL200131C00305000</td>\n",
       "      <td>2020-01-24 9:50AM EST</td>\n",
       "      <td>305.0</td>\n",
       "      <td>19.00</td>\n",
       "      <td>19.05</td>\n",
       "      <td>19.30</td>\n",
       "      <td>1.88</td>\n",
       "      <td>+10.98%</td>\n",
       "      <td>315</td>\n",
       "      <td>2419</td>\n",
       "      <td>70.89%</td>\n",
       "    </tr>\n",
       "    <tr>\n",
       "      <th>39</th>\n",
       "      <td>AAPL200131C00307500</td>\n",
       "      <td>2020-01-24 9:52AM EST</td>\n",
       "      <td>307.5</td>\n",
       "      <td>17.20</td>\n",
       "      <td>17.05</td>\n",
       "      <td>17.30</td>\n",
       "      <td>1.90</td>\n",
       "      <td>+12.42%</td>\n",
       "      <td>59</td>\n",
       "      <td>1083</td>\n",
       "      <td>68.32%</td>\n",
       "    </tr>\n",
       "    <tr>\n",
       "      <th>40</th>\n",
       "      <td>AAPL200131C00310000</td>\n",
       "      <td>2020-01-24 9:51AM EST</td>\n",
       "      <td>310.0</td>\n",
       "      <td>15.30</td>\n",
       "      <td>15.10</td>\n",
       "      <td>15.35</td>\n",
       "      <td>1.75</td>\n",
       "      <td>+12.92%</td>\n",
       "      <td>216</td>\n",
       "      <td>3557</td>\n",
       "      <td>65.70%</td>\n",
       "    </tr>\n",
       "    <tr>\n",
       "      <th>41</th>\n",
       "      <td>AAPL200131C00312500</td>\n",
       "      <td>2020-01-24 9:49AM EST</td>\n",
       "      <td>312.5</td>\n",
       "      <td>13.35</td>\n",
       "      <td>13.55</td>\n",
       "      <td>13.65</td>\n",
       "      <td>1.50</td>\n",
       "      <td>+12.66%</td>\n",
       "      <td>166</td>\n",
       "      <td>3618</td>\n",
       "      <td>64.72%</td>\n",
       "    </tr>\n",
       "    <tr>\n",
       "      <th>42</th>\n",
       "      <td>AAPL200131C00315000</td>\n",
       "      <td>2020-01-24 9:51AM EST</td>\n",
       "      <td>315.0</td>\n",
       "      <td>11.90</td>\n",
       "      <td>11.85</td>\n",
       "      <td>11.95</td>\n",
       "      <td>1.51</td>\n",
       "      <td>+14.53%</td>\n",
       "      <td>597</td>\n",
       "      <td>4920</td>\n",
       "      <td>62.74%</td>\n",
       "    </tr>\n",
       "    <tr>\n",
       "      <th>43</th>\n",
       "      <td>AAPL200131C00317500</td>\n",
       "      <td>2020-01-24 9:50AM EST</td>\n",
       "      <td>317.5</td>\n",
       "      <td>10.38</td>\n",
       "      <td>10.40</td>\n",
       "      <td>10.45</td>\n",
       "      <td>1.45</td>\n",
       "      <td>+16.24%</td>\n",
       "      <td>940</td>\n",
       "      <td>4684</td>\n",
       "      <td>61.61%</td>\n",
       "    </tr>\n",
       "    <tr>\n",
       "      <th>44</th>\n",
       "      <td>AAPL200131C00320000</td>\n",
       "      <td>2020-01-24 9:51AM EST</td>\n",
       "      <td>320.0</td>\n",
       "      <td>8.95</td>\n",
       "      <td>8.90</td>\n",
       "      <td>9.00</td>\n",
       "      <td>1.30</td>\n",
       "      <td>+16.99%</td>\n",
       "      <td>3265</td>\n",
       "      <td>5205</td>\n",
       "      <td>59.88%</td>\n",
       "    </tr>\n",
       "    <tr>\n",
       "      <th>45</th>\n",
       "      <td>AAPL200131C00322500</td>\n",
       "      <td>2020-01-24 9:51AM EST</td>\n",
       "      <td>322.5</td>\n",
       "      <td>7.70</td>\n",
       "      <td>7.65</td>\n",
       "      <td>7.75</td>\n",
       "      <td>1.22</td>\n",
       "      <td>+18.83%</td>\n",
       "      <td>1497</td>\n",
       "      <td>2344</td>\n",
       "      <td>58.90%</td>\n",
       "    </tr>\n",
       "    <tr>\n",
       "      <th>46</th>\n",
       "      <td>AAPL200131C00325000</td>\n",
       "      <td>2020-01-24 9:51AM EST</td>\n",
       "      <td>325.0</td>\n",
       "      <td>6.55</td>\n",
       "      <td>6.50</td>\n",
       "      <td>6.55</td>\n",
       "      <td>1.03</td>\n",
       "      <td>+18.66%</td>\n",
       "      <td>2216</td>\n",
       "      <td>3294</td>\n",
       "      <td>57.74%</td>\n",
       "    </tr>\n",
       "    <tr>\n",
       "      <th>47</th>\n",
       "      <td>AAPL200131C00327500</td>\n",
       "      <td>2020-01-24 9:51AM EST</td>\n",
       "      <td>327.5</td>\n",
       "      <td>5.42</td>\n",
       "      <td>5.35</td>\n",
       "      <td>5.45</td>\n",
       "      <td>0.82</td>\n",
       "      <td>+17.83%</td>\n",
       "      <td>479</td>\n",
       "      <td>3244</td>\n",
       "      <td>56.20%</td>\n",
       "    </tr>\n",
       "    <tr>\n",
       "      <th>48</th>\n",
       "      <td>AAPL200131C00330000</td>\n",
       "      <td>2020-01-24 9:50AM EST</td>\n",
       "      <td>330.0</td>\n",
       "      <td>4.57</td>\n",
       "      <td>4.55</td>\n",
       "      <td>4.60</td>\n",
       "      <td>0.82</td>\n",
       "      <td>+21.87%</td>\n",
       "      <td>955</td>\n",
       "      <td>5300</td>\n",
       "      <td>55.93%</td>\n",
       "    </tr>\n",
       "  </tbody>\n",
       "</table>\n",
       "</div>"
      ],
      "text/plain": [
       "          Contract Name        Last Trade Date  Strike  Last Price    Bid  \\\n",
       "36  AAPL200131C00300000  2020-01-24 9:51AM EST   300.0       23.40  23.25   \n",
       "37  AAPL200131C00302500  2020-01-23 3:52PM EST   302.5       20.10  21.10   \n",
       "38  AAPL200131C00305000  2020-01-24 9:50AM EST   305.0       19.00  19.05   \n",
       "39  AAPL200131C00307500  2020-01-24 9:52AM EST   307.5       17.20  17.05   \n",
       "40  AAPL200131C00310000  2020-01-24 9:51AM EST   310.0       15.30  15.10   \n",
       "41  AAPL200131C00312500  2020-01-24 9:49AM EST   312.5       13.35  13.55   \n",
       "42  AAPL200131C00315000  2020-01-24 9:51AM EST   315.0       11.90  11.85   \n",
       "43  AAPL200131C00317500  2020-01-24 9:50AM EST   317.5       10.38  10.40   \n",
       "44  AAPL200131C00320000  2020-01-24 9:51AM EST   320.0        8.95   8.90   \n",
       "45  AAPL200131C00322500  2020-01-24 9:51AM EST   322.5        7.70   7.65   \n",
       "46  AAPL200131C00325000  2020-01-24 9:51AM EST   325.0        6.55   6.50   \n",
       "47  AAPL200131C00327500  2020-01-24 9:51AM EST   327.5        5.42   5.35   \n",
       "48  AAPL200131C00330000  2020-01-24 9:50AM EST   330.0        4.57   4.55   \n",
       "\n",
       "      Ask  Change % Change Volume Open Interest Implied Volatility  \n",
       "36  23.60    2.11   +9.91%    118         22336             76.79%  \n",
       "37  21.30    1.20   +6.35%      7          1218             73.25%  \n",
       "38  19.30    1.88  +10.98%    315          2419             70.89%  \n",
       "39  17.30    1.90  +12.42%     59          1083             68.32%  \n",
       "40  15.35    1.75  +12.92%    216          3557             65.70%  \n",
       "41  13.65    1.50  +12.66%    166          3618             64.72%  \n",
       "42  11.95    1.51  +14.53%    597          4920             62.74%  \n",
       "43  10.45    1.45  +16.24%    940          4684             61.61%  \n",
       "44   9.00    1.30  +16.99%   3265          5205             59.88%  \n",
       "45   7.75    1.22  +18.83%   1497          2344             58.90%  \n",
       "46   6.55    1.03  +18.66%   2216          3294             57.74%  \n",
       "47   5.45    0.82  +17.83%    479          3244             56.20%  \n",
       "48   4.60    0.82  +21.87%    955          5300             55.93%  "
      ]
     },
     "execution_count": 168,
     "metadata": {},
     "output_type": "execute_result"
    }
   ],
   "source": [
    "# notice the last trade date here is at market close, so look at aapl's closing price to gauge current underlying stock (asset) price.\n",
    "calls[calls['Strike'].between(300,330)]"
   ]
  },
  {
   "cell_type": "code",
   "execution_count": 169,
   "metadata": {},
   "outputs": [
    {
     "data": {
      "image/png": "[encoded data removed]",
      "text/plain": [
       "<Figure size 360x216 with 1 Axes>"
      ]
     },
     "metadata": {
      "needs_background": "light"
     },
     "output_type": "display_data"
    }
   ],
   "source": [
    "# AAPL's closing stock price on 2019-01-22 was 319.23. \n",
    "# So set K near 319.23 for the second asset.\n",
    "# Set lambda to be 1/5 since the strikes are incremented by 5\n",
    "# Note: they're actually incremented by 2.5, but those are less liquid\n",
    "K = 320.0\n",
    "l=1/5\n",
    "S = np.linspace(K-2/l, K+2/l, 5000)\n",
    "\n",
    "# Strike = 315.0\n",
    "asset1_payout = option_payout(K=K-1/l, quantity=l, S=S)\n",
    "# Strike = 320.0\n",
    "asset2_payout = option_payout(K=K, quantity=l, S=S)\n",
    "# Strike = 325.0\n",
    "asset3_payout = option_payout(K=K+1/l, quantity=l, S=S)\n",
    "\n",
    "# make sure I used the same S as index\n",
    "portfolio_payout = asset1_payout - 2*asset2_payout + asset3_payout\n",
    "\n",
    "portfolio_payout.plot(title='Portfolio Payout', figsize=(5,3))\n",
    "plt.ylabel('Payout')\n",
    "plt.xlabel('S_T')\n",
    "plt.show()"
   ]
  },
  {
   "cell_type": "code",
   "execution_count": 170,
   "metadata": {},
   "outputs": [
    {
     "data": {
      "text/html": [
       "<div>\n",
       "<style scoped>\n",
       "    .dataframe tbody tr th:only-of-type {\n",
       "        vertical-align: middle;\n",
       "    }\n",
       "\n",
       "    .dataframe tbody tr th {\n",
       "        vertical-align: top;\n",
       "    }\n",
       "\n",
       "    .dataframe thead th {\n",
       "        text-align: right;\n",
       "    }\n",
       "</style>\n",
       "<table border=\"1\" class=\"dataframe\">\n",
       "  <thead>\n",
       "    <tr style=\"text-align: right;\">\n",
       "      <th></th>\n",
       "      <th>Payout</th>\n",
       "    </tr>\n",
       "  </thead>\n",
       "  <tbody>\n",
       "    <tr>\n",
       "      <th>315.053011</th>\n",
       "      <td>0.010602</td>\n",
       "    </tr>\n",
       "    <tr>\n",
       "      <th>315.853171</th>\n",
       "      <td>0.170634</td>\n",
       "    </tr>\n",
       "    <tr>\n",
       "      <th>316.653331</th>\n",
       "      <td>0.330666</td>\n",
       "    </tr>\n",
       "    <tr>\n",
       "      <th>317.453491</th>\n",
       "      <td>0.490698</td>\n",
       "    </tr>\n",
       "    <tr>\n",
       "      <th>318.253651</th>\n",
       "      <td>0.650730</td>\n",
       "    </tr>\n",
       "    <tr>\n",
       "      <th>319.053811</th>\n",
       "      <td>0.810762</td>\n",
       "    </tr>\n",
       "    <tr>\n",
       "      <th>319.853971</th>\n",
       "      <td>0.970794</td>\n",
       "    </tr>\n",
       "    <tr>\n",
       "      <th>320.654131</th>\n",
       "      <td>0.869174</td>\n",
       "    </tr>\n",
       "    <tr>\n",
       "      <th>321.454291</th>\n",
       "      <td>0.709142</td>\n",
       "    </tr>\n",
       "    <tr>\n",
       "      <th>322.254451</th>\n",
       "      <td>0.549110</td>\n",
       "    </tr>\n",
       "    <tr>\n",
       "      <th>323.054611</th>\n",
       "      <td>0.389078</td>\n",
       "    </tr>\n",
       "    <tr>\n",
       "      <th>323.854771</th>\n",
       "      <td>0.229046</td>\n",
       "    </tr>\n",
       "    <tr>\n",
       "      <th>324.654931</th>\n",
       "      <td>0.069014</td>\n",
       "    </tr>\n",
       "  </tbody>\n",
       "</table>\n",
       "</div>"
      ],
      "text/plain": [
       "              Payout\n",
       "315.053011  0.010602\n",
       "315.853171  0.170634\n",
       "316.653331  0.330666\n",
       "317.453491  0.490698\n",
       "318.253651  0.650730\n",
       "319.053811  0.810762\n",
       "319.853971  0.970794\n",
       "320.654131  0.869174\n",
       "321.454291  0.709142\n",
       "322.254451  0.549110\n",
       "323.054611  0.389078\n",
       "323.854771  0.229046\n",
       "324.654931  0.069014"
      ]
     },
     "execution_count": 170,
     "metadata": {},
     "output_type": "execute_result"
    }
   ],
   "source": [
    "portfolio_payout[portfolio_payout['Payout']>0.01][::200]"
   ]
  },
  {
   "cell_type": "markdown",
   "metadata": {},
   "source": [
    "### How much would this portfolio cost? (Using bid and ask prices)"
   ]
  },
  {
   "cell_type": "code",
   "execution_count": 171,
   "metadata": {},
   "outputs": [
    {
     "name": "stdout",
     "output_type": "stream",
     "text": [
      "0.13999999999999968\n"
     ]
    }
   ],
   "source": [
    "# buying 1 call with strike 315.0 at ask would cost\n",
    "asset1_cost = float(calls[calls['Strike']==K-1/l]['Ask'].values)*l\n",
    "\n",
    "# selling 2 calls with strike 320.0 at bid would generate\n",
    "asset2_cost = float(calls[calls['Strike']==K]['Bid'].values)*l\n",
    "\n",
    "# buying 1 call with strike 325.0 at ask would cost\n",
    "asset3_cost = float(calls[calls['Strike']==K+1/l]['Ask'].values)*l\n",
    "\n",
    "portfolio_cost = asset1_cost - 2*asset2_cost + asset3_cost\n",
    "\n",
    "print(portfolio_cost)"
   ]
  },
  {
   "cell_type": "markdown",
   "metadata": {},
   "source": [
    "### How much would this portfolio cost? (Using \"Last price\" prices)"
   ]
  },
  {
   "cell_type": "code",
   "execution_count": 175,
   "metadata": {},
   "outputs": [
    {
     "name": "stdout",
     "output_type": "stream",
     "text": [
      "0.11000000000000032\n"
     ]
    }
   ],
   "source": [
    "# buying 1 call with strike K-1/l at last price would cost\n",
    "asset1_cost = float(calls[calls['Strike']==K-1/l]['Last Price'].values)*l\n",
    "\n",
    "# selling 2 calls with strike K at last price would generate\n",
    "asset2_cost = float(calls[calls['Strike']==K]['Last Price'].values)*l\n",
    "\n",
    "# buying 1 call with strike K+1/l at last price would cost\n",
    "asset3_cost = float(calls[calls['Strike']==K+1/l]['Last Price'].values)*l\n",
    "\n",
    "portfolio_cost = asset1_cost - 2*asset2_cost + asset3_cost\n",
    "\n",
    "print(portfolio_cost)"
   ]
  },
  {
   "cell_type": "markdown",
   "metadata": {},
   "source": [
    "### How much would this portfolio cost? (Using \"(Bid+Ask)/2\" prices)"
   ]
  },
  {
   "cell_type": "code",
   "execution_count": 176,
   "metadata": {},
   "outputs": [
    {
     "name": "stdout",
     "output_type": "stream",
     "text": [
      "[0.105]\n"
     ]
    }
   ],
   "source": [
    "# buying 1 call with strike 315.0 at ask would cost\n",
    "asset1_cost = (calls[calls['Strike']==K-1/l]['Bid'].values+calls[calls['Strike']==K-1/l]['Ask'].values)*l/2\n",
    "\n",
    "# selling 2 calls with strike 320.0 at bid would generate\n",
    "asset2_cost = (calls[calls['Strike']==K]['Bid'].values+calls[calls['Strike']==K]['Ask'].values)*l/2\n",
    "\n",
    "# buying 1 call with strike 325.0 at ask would cost\n",
    "asset3_cost = (calls[calls['Strike']==K+1/l]['Bid'].values+calls[calls['Strike']==K+1/l]['Ask'].values)*l/2\n",
    "\n",
    "portfolio_cost = asset1_cost - 2*asset2_cost + asset3_cost\n",
    "\n",
    "print(portfolio_cost)"
   ]
  },
  {
   "cell_type": "markdown",
   "metadata": {},
   "source": [
    "Remember that the prices is the discounted expected value of the payout\n",
    "\n",
    "This gives me insight into the pmf, but I'm interested in the CDF.\n",
    "\n",
    "Need to work further on getting the implied probability that AAPL will fall in a specific range on 2019-01-31"
   ]
  },
  {
   "cell_type": "markdown",
   "metadata": {},
   "source": [
    "### I can repeat this process for multiple different values for K.\n",
    "- Compare the cost of these different portfolios"
   ]
  },
  {
   "cell_type": "code",
   "execution_count": 204,
   "metadata": {},
   "outputs": [],
   "source": [
    "Ks = np.arange(280, 360, 2.5)\n",
    "l=1/2.5\n",
    "prices = []\n",
    "\n",
    "for K in Ks:\n",
    "    asset1_cost = float(calls[calls['Strike']==K-1/l]['Ask'].to_numpy())*l\n",
    "    asset2_cost = float(calls[calls['Strike']==K]['Bid'].to_numpy())*l\n",
    "    asset3_cost = float(calls[calls['Strike']==K+1/l]['Ask'].to_numpy())*l\n",
    "    portfolio_cost = asset1_cost - 2*asset2_cost + asset3_cost\n",
    "    prices.append(portfolio_cost)"
   ]
  },
  {
   "cell_type": "code",
   "execution_count": 43,
   "metadata": {},
   "outputs": [
    {
     "data": {
      "text/plain": [
       "<matplotlib.axes._subplots.AxesSubplot at 0x1818e1f8cc8>"
      ]
     },
     "execution_count": 43,
     "metadata": {},
     "output_type": "execute_result"
    },
    {
     "data": {
      "image/png": "[encoded data removed]",
      "text/plain": [
       "<Figure size 432x288 with 1 Axes>"
      ]
     },
     "metadata": {
      "needs_background": "light"
     },
     "output_type": "display_data"
    }
   ],
   "source": [
    "df = pd.DataFrame({'Price':prices}, index=Ks)\n",
    "df.plot()"
   ]
  },
  {
   "cell_type": "markdown",
   "metadata": {},
   "source": [
    "### Develop a function that can do the same with any stock.\n",
    "- Can determine what value of lambda to use\n",
    "- Can determine what values of K to use\n",
    "    - based on the current stock price"
   ]
  },
  {
   "cell_type": "code",
   "execution_count": 47,
   "metadata": {},
   "outputs": [],
   "source": [
    "msft = yf.Ticker(\"MSFT\")"
   ]
  },
  {
   "cell_type": "code",
   "execution_count": 50,
   "metadata": {},
   "outputs": [
    {
     "data": {
      "text/html": [
       "<div>\n",
       "<style scoped>\n",
       "    .dataframe tbody tr th:only-of-type {\n",
       "        vertical-align: middle;\n",
       "    }\n",
       "\n",
       "    .dataframe tbody tr th {\n",
       "        vertical-align: top;\n",
       "    }\n",
       "\n",
       "    .dataframe thead th {\n",
       "        text-align: right;\n",
       "    }\n",
       "</style>\n",
       "<table border=\"1\" class=\"dataframe\">\n",
       "  <thead>\n",
       "    <tr style=\"text-align: right;\">\n",
       "      <th></th>\n",
       "      <th>Open</th>\n",
       "      <th>High</th>\n",
       "      <th>Low</th>\n",
       "      <th>Close</th>\n",
       "      <th>Volume</th>\n",
       "      <th>Dividends</th>\n",
       "      <th>Stock Splits</th>\n",
       "    </tr>\n",
       "    <tr>\n",
       "      <th>Date</th>\n",
       "      <th></th>\n",
       "      <th></th>\n",
       "      <th></th>\n",
       "      <th></th>\n",
       "      <th></th>\n",
       "      <th></th>\n",
       "      <th></th>\n",
       "    </tr>\n",
       "  </thead>\n",
       "  <tbody>\n",
       "    <tr>\n",
       "      <th>2020-01-24</th>\n",
       "      <td>167.51</td>\n",
       "      <td>167.53</td>\n",
       "      <td>164.45</td>\n",
       "      <td>165.04</td>\n",
       "      <td>24903000</td>\n",
       "      <td>0</td>\n",
       "      <td>0</td>\n",
       "    </tr>\n",
       "    <tr>\n",
       "      <th>2020-01-24</th>\n",
       "      <td>167.51</td>\n",
       "      <td>167.53</td>\n",
       "      <td>164.45</td>\n",
       "      <td>165.04</td>\n",
       "      <td>20904876</td>\n",
       "      <td>0</td>\n",
       "      <td>0</td>\n",
       "    </tr>\n",
       "  </tbody>\n",
       "</table>\n",
       "</div>"
      ],
      "text/plain": [
       "              Open    High     Low   Close    Volume  Dividends  Stock Splits\n",
       "Date                                                                         \n",
       "2020-01-24  167.51  167.53  164.45  165.04  24903000          0             0\n",
       "2020-01-24  167.51  167.53  164.45  165.04  20904876          0             0"
      ]
     },
     "execution_count": 50,
     "metadata": {},
     "output_type": "execute_result"
    }
   ],
   "source": [
    "hist = msft.history(period=\"1d\")\n",
    "hist"
   ]
  },
  {
   "cell_type": "code",
   "execution_count": 49,
   "metadata": {},
   "outputs": [
    {
     "name": "stdout",
     "output_type": "stream",
     "text": [
      "1580428800\n",
      "2020-01-31 00:00:00\n",
      "https://finance.yahoo.com/quote/MSFT/options?p=MSFT&date=1580428800\n"
     ]
    },
    {
     "data": {
      "text/html": [
       "<div>\n",
       "<style scoped>\n",
       "    .dataframe tbody tr th:only-of-type {\n",
       "        vertical-align: middle;\n",
       "    }\n",
       "\n",
       "    .dataframe tbody tr th {\n",
       "        vertical-align: top;\n",
       "    }\n",
       "\n",
       "    .dataframe thead th {\n",
       "        text-align: right;\n",
       "    }\n",
       "</style>\n",
       "<table border=\"1\" class=\"dataframe\">\n",
       "  <thead>\n",
       "    <tr style=\"text-align: right;\">\n",
       "      <th></th>\n",
       "      <th>Contract Name</th>\n",
       "      <th>Last Trade Date</th>\n",
       "      <th>Strike</th>\n",
       "      <th>Last Price</th>\n",
       "      <th>Bid</th>\n",
       "      <th>Ask</th>\n",
       "      <th>Change</th>\n",
       "      <th>% Change</th>\n",
       "      <th>Volume</th>\n",
       "      <th>Open Interest</th>\n",
       "      <th>Implied Volatility</th>\n",
       "    </tr>\n",
       "  </thead>\n",
       "  <tbody>\n",
       "    <tr>\n",
       "      <th>0</th>\n",
       "      <td>MSFT200131C00115000</td>\n",
       "      <td>2020-01-06 10:08AM EST</td>\n",
       "      <td>115.0</td>\n",
       "      <td>42.65</td>\n",
       "      <td>52.4</td>\n",
       "      <td>52.55</td>\n",
       "      <td>0.0</td>\n",
       "      <td>-</td>\n",
       "      <td>1</td>\n",
       "      <td>1</td>\n",
       "      <td>238.48%</td>\n",
       "    </tr>\n",
       "    <tr>\n",
       "      <th>1</th>\n",
       "      <td>MSFT200131C00120000</td>\n",
       "      <td>2020-01-16 3:54PM EST</td>\n",
       "      <td>120.0</td>\n",
       "      <td>47.40</td>\n",
       "      <td>47.4</td>\n",
       "      <td>47.55</td>\n",
       "      <td>0.0</td>\n",
       "      <td>-</td>\n",
       "      <td>1</td>\n",
       "      <td>11</td>\n",
       "      <td>216.89%</td>\n",
       "    </tr>\n",
       "    <tr>\n",
       "      <th>2</th>\n",
       "      <td>MSFT200131C00125000</td>\n",
       "      <td>2019-12-20 10:38AM EST</td>\n",
       "      <td>125.0</td>\n",
       "      <td>42.40</td>\n",
       "      <td>42.4</td>\n",
       "      <td>42.55</td>\n",
       "      <td>0.0</td>\n",
       "      <td>-</td>\n",
       "      <td>1</td>\n",
       "      <td>5</td>\n",
       "      <td>195.95%</td>\n",
       "    </tr>\n",
       "    <tr>\n",
       "      <th>3</th>\n",
       "      <td>MSFT200131C00130000</td>\n",
       "      <td>2020-01-23 11:51AM EST</td>\n",
       "      <td>130.0</td>\n",
       "      <td>35.75</td>\n",
       "      <td>37.3</td>\n",
       "      <td>37.60</td>\n",
       "      <td>0.0</td>\n",
       "      <td>-</td>\n",
       "      <td>16</td>\n",
       "      <td>2</td>\n",
       "      <td>174.95%</td>\n",
       "    </tr>\n",
       "    <tr>\n",
       "      <th>4</th>\n",
       "      <td>MSFT200131C00132000</td>\n",
       "      <td>2020-01-21 11:50AM EST</td>\n",
       "      <td>132.0</td>\n",
       "      <td>35.80</td>\n",
       "      <td>35.3</td>\n",
       "      <td>35.70</td>\n",
       "      <td>0.0</td>\n",
       "      <td>-</td>\n",
       "      <td>-</td>\n",
       "      <td>-</td>\n",
       "      <td>168.07%</td>\n",
       "    </tr>\n",
       "  </tbody>\n",
       "</table>\n",
       "</div>"
      ],
      "text/plain": [
       "         Contract Name         Last Trade Date  Strike  Last Price   Bid  \\\n",
       "0  MSFT200131C00115000  2020-01-06 10:08AM EST   115.0       42.65  52.4   \n",
       "1  MSFT200131C00120000   2020-01-16 3:54PM EST   120.0       47.40  47.4   \n",
       "2  MSFT200131C00125000  2019-12-20 10:38AM EST   125.0       42.40  42.4   \n",
       "3  MSFT200131C00130000  2020-01-23 11:51AM EST   130.0       35.75  37.3   \n",
       "4  MSFT200131C00132000  2020-01-21 11:50AM EST   132.0       35.80  35.3   \n",
       "\n",
       "     Ask  Change % Change Volume Open Interest Implied Volatility  \n",
       "0  52.55     0.0        -      1             1            238.48%  \n",
       "1  47.55     0.0        -      1            11            216.89%  \n",
       "2  42.55     0.0        -      1             5            195.95%  \n",
       "3  37.60     0.0        -     16             2            174.95%  \n",
       "4  35.70     0.0        -      -             -            168.07%  "
      ]
     },
     "execution_count": 49,
     "metadata": {},
     "output_type": "execute_result"
    }
   ],
   "source": [
    "msft_oc = oc.get_options_chain('MSFT', date='2020-01-31')\n",
    "calls = pd.DataFrame(msft_oc['calls'])\n",
    "calls.head()"
   ]
  },
  {
   "cell_type": "code",
   "execution_count": 85,
   "metadata": {},
   "outputs": [],
   "source": [
    "from IPython.display import display"
   ]
  },
  {
   "cell_type": "code",
   "execution_count": 95,
   "metadata": {},
   "outputs": [
    {
     "name": "stdout",
     "output_type": "stream",
     "text": [
      "1580428800\n",
      "2020-01-31 00:00:00\n",
      "https://finance.yahoo.com/quote/AAPL/options?p=AAPL&date=1580428800\n"
     ]
    },
    {
     "data": {
      "text/html": [
       "<div>\n",
       "<style scoped>\n",
       "    .dataframe tbody tr th:only-of-type {\n",
       "        vertical-align: middle;\n",
       "    }\n",
       "\n",
       "    .dataframe tbody tr th {\n",
       "        vertical-align: top;\n",
       "    }\n",
       "\n",
       "    .dataframe thead th {\n",
       "        text-align: right;\n",
       "    }\n",
       "</style>\n",
       "<table border=\"1\" class=\"dataframe\">\n",
       "  <thead>\n",
       "    <tr style=\"text-align: right;\">\n",
       "      <th></th>\n",
       "      <th>Differences</th>\n",
       "      <th>Stock Price</th>\n",
       "      <th>Strikes</th>\n",
       "    </tr>\n",
       "  </thead>\n",
       "  <tbody>\n",
       "    <tr>\n",
       "      <th>0</th>\n",
       "      <td>318.31</td>\n",
       "      <td>318.31</td>\n",
       "      <td>0.0</td>\n",
       "    </tr>\n",
       "    <tr>\n",
       "      <th>1</th>\n",
       "      <td>313.31</td>\n",
       "      <td>318.31</td>\n",
       "      <td>5.0</td>\n",
       "    </tr>\n",
       "    <tr>\n",
       "      <th>2</th>\n",
       "      <td>308.31</td>\n",
       "      <td>318.31</td>\n",
       "      <td>10.0</td>\n",
       "    </tr>\n",
       "    <tr>\n",
       "      <th>3</th>\n",
       "      <td>303.31</td>\n",
       "      <td>318.31</td>\n",
       "      <td>15.0</td>\n",
       "    </tr>\n",
       "    <tr>\n",
       "      <th>4</th>\n",
       "      <td>298.31</td>\n",
       "      <td>318.31</td>\n",
       "      <td>20.0</td>\n",
       "    </tr>\n",
       "    <tr>\n",
       "      <th>...</th>\n",
       "      <td>...</td>\n",
       "      <td>...</td>\n",
       "      <td>...</td>\n",
       "    </tr>\n",
       "    <tr>\n",
       "      <th>61</th>\n",
       "      <td>13.31</td>\n",
       "      <td>318.31</td>\n",
       "      <td>305.0</td>\n",
       "    </tr>\n",
       "    <tr>\n",
       "      <th>62</th>\n",
       "      <td>8.31</td>\n",
       "      <td>318.31</td>\n",
       "      <td>310.0</td>\n",
       "    </tr>\n",
       "    <tr>\n",
       "      <th>63</th>\n",
       "      <td>3.31</td>\n",
       "      <td>318.31</td>\n",
       "      <td>315.0</td>\n",
       "    </tr>\n",
       "    <tr>\n",
       "      <th>64</th>\n",
       "      <td>1.69</td>\n",
       "      <td>318.31</td>\n",
       "      <td>320.0</td>\n",
       "    </tr>\n",
       "    <tr>\n",
       "      <th>65</th>\n",
       "      <td>6.69</td>\n",
       "      <td>318.31</td>\n",
       "      <td>325.0</td>\n",
       "    </tr>\n",
       "  </tbody>\n",
       "</table>\n",
       "<p>66 rows × 3 columns</p>\n",
       "</div>"
      ],
      "text/plain": [
       "    Differences  Stock Price  Strikes\n",
       "0        318.31       318.31      0.0\n",
       "1        313.31       318.31      5.0\n",
       "2        308.31       318.31     10.0\n",
       "3        303.31       318.31     15.0\n",
       "4        298.31       318.31     20.0\n",
       "..          ...          ...      ...\n",
       "61        13.31       318.31    305.0\n",
       "62         8.31       318.31    310.0\n",
       "63         3.31       318.31    315.0\n",
       "64         1.69       318.31    320.0\n",
       "65         6.69       318.31    325.0\n",
       "\n",
       "[66 rows x 3 columns]"
      ]
     },
     "metadata": {},
     "output_type": "display_data"
    },
    {
     "name": "stdout",
     "output_type": "stream",
     "text": [
      "[318. 323. 328. 333. 338. 343. 348. 353. 358. 363. 368. 373.]\n",
      "0.2\n",
      "320.0\n"
     ]
    }
   ],
   "source": [
    "ticker='AAPL'\n",
    "option_prices = oc.get_options_chain(ticker, date='2020-01-31')\n",
    "calls = pd.DataFrame(option_prices['calls'])\n",
    "l = 1/(calls['Strike'].iloc[1] - calls['Strike'].iloc[0])\n",
    "stock_price = yf.Ticker(ticker).history(period=\"1d\")['Close'].iloc[0]\n",
    "\n",
    "# Calculate the closest strike price to the current strike price\n",
    "diffs = []\n",
    "prices = []\n",
    "strikes = []\n",
    "for x in np.arange(0,stock_price+2*(1/l), 1/l):\n",
    "    diffs.append(stock_price-x)\n",
    "    prices.append(stock_price)\n",
    "    strikes.append(x)\n",
    "data = pd.DataFrame({'Differences':diffs,\n",
    "                     'Stock Price':prices,\n",
    "                     'Strikes':strikes})\n",
    "data['Differences'] = np.abs(data['Differences'])\n",
    "mid_strike_price = data['Strikes'].iloc[data['Differences'].idxmin()]\n",
    "\n",
    "display(data)\n",
    "Ks = np.arange(mid_strike_price-10*l, mid_strike_price+11*(1/l), 1/l)\n",
    "prices = []\n",
    "print(Ks)\n",
    "print(l)\n",
    "print(mid_strike_price)\n",
    "\n",
    "\n",
    "\n",
    "    "
   ]
  },
  {
   "cell_type": "code",
   "execution_count": 147,
   "metadata": {},
   "outputs": [
    {
     "data": {
      "text/plain": [
       "318.0"
      ]
     },
     "execution_count": 147,
     "metadata": {},
     "output_type": "execute_result"
    }
   ],
   "source": [
    "Ks[0]"
   ]
  },
  {
   "cell_type": "code",
   "execution_count": 146,
   "metadata": {},
   "outputs": [
    {
     "data": {
      "text/plain": [
       "array([], dtype=float64)"
      ]
     },
     "execution_count": 146,
     "metadata": {},
     "output_type": "execute_result"
    }
   ],
   "source": [
    "calls[calls['Strike']==Ks[0]-1/l]['Ask'].values*l"
   ]
  },
  {
   "cell_type": "code",
   "execution_count": null,
   "metadata": {},
   "outputs": [],
   "source": [
    "for K in Ks:\n",
    "    asset1_cost = float(calls[calls['Strike']==K-1/l]['Ask'].values)*l\n",
    "    asset2_cost = float(calls[calls['Strike']==K]['Bid'].values)*l\n",
    "    asset3_cost = float(calls[calls['Strike']==K+1/l]['Ask'].values)*l\n",
    "    portfolio_cost = asset1_cost - 2*asset2_cost + asset3_cost\n",
    "    prices.append(portfolio_cost)\n",
    "df = pd.DataFrame({'Price':prices}, index=Ks)"
   ]
  },
  {
   "cell_type": "code",
   "execution_count": 187,
   "metadata": {},
   "outputs": [],
   "source": [
    "def get_butterfly_prices(ticker, date, plus_minus=3, pricing_method='mid'):\n",
    "    option_prices = oc.get_options_chain(ticker, date=date)\n",
    "    calls = pd.DataFrame(option_prices['calls'])\n",
    "    l = 1/(calls['Strike'].iloc[1] - calls['Strike'].iloc[0])\n",
    "    stock_price = yf.Ticker(ticker).history(period=\"1d\")['Close'].iloc[0]\n",
    "    # Calculate the closest strike price to the current strike price\n",
    "    diffs = []\n",
    "    prices = []\n",
    "    strikes = []\n",
    "    for x in np.arange(0,stock_price+2*(1/l), 1/l):\n",
    "        diffs.append(stock_price-x)\n",
    "        prices.append(stock_price)\n",
    "        strikes.append(x)\n",
    "    data = pd.DataFrame({'Differences':diffs,\n",
    "                         'Stock Price':prices,\n",
    "                         'Strikes':strikes})\n",
    "    data['Differences'] = np.abs(data['Differences'])\n",
    "    mid_strike_price = data['Strikes'].iloc[data['Differences'].idxmin()]\n",
    "    \n",
    "    #display(data)\n",
    "    # I should dynamically be setting the value for this -6 and positive 7\n",
    "    Ks = np.arange(mid_strike_price-plus_minus*(1/l), mid_strike_price+plus_minus*(1/l)+(1/l), 1/l)\n",
    "    prices = []\n",
    "    #print(Ks)\n",
    "    #print(l)\n",
    "    #print(mid_strike_price)\n",
    "    if pricing_method == 'real':\n",
    "        for K in Ks:\n",
    "            #display(calls)\n",
    "            asset1_cost = float(calls[calls['Strike']==K-1/l]['Ask'].values)*l\n",
    "            asset2_cost = float(calls[calls['Strike']==K]['Bid'].values)*l\n",
    "            asset3_cost = float(calls[calls['Strike']==K+1/l]['Ask'].values)*l\n",
    "            portfolio_cost = asset1_cost - 2*asset2_cost + asset3_cost\n",
    "            prices.append(portfolio_cost)\n",
    "    if pricing_method == 'mid':\n",
    "        for K in Ks:\n",
    "            #display(calls)\n",
    "            asset1_cost = float((calls[calls['Strike']==K-1/l]['Bid'].values+calls[calls['Strike']==K-1/l]['Ask'].values)*l/2)\n",
    "            asset2_cost = float((calls[calls['Strike']==K]['Bid'].values+calls[calls['Strike']==K]['Ask'].values)*l/2)\n",
    "            asset3_cost = float((calls[calls['Strike']==K+1/l]['Bid'].values+calls[calls['Strike']==K+1/l]['Ask'].values)*l/2)\n",
    "            portfolio_cost = asset1_cost - 2*asset2_cost + asset3_cost\n",
    "            prices.append(portfolio_cost)\n",
    "    df = pd.DataFrame({'Price':prices}, index=Ks)\n",
    "    return df  "
   ]
  },
  {
   "cell_type": "code",
   "execution_count": 203,
   "metadata": {},
   "outputs": [
    {
     "name": "stdout",
     "output_type": "stream",
     "text": [
      "1610668800\n",
      "2021-01-15 00:00:00\n",
      "https://finance.yahoo.com/quote/QQQ/options?p=QQQ&date=1610668800\n"
     ]
    },
    {
     "data": {
      "text/plain": [
       "<matplotlib.axes._subplots.AxesSubplot at 0x1818f7ff348>"
      ]
     },
     "execution_count": 203,
     "metadata": {},
     "output_type": "execute_result"
    },
    {
     "data": {
      "image/png": "[encoded data removed]",
      "text/plain": [
       "<Figure size 432x288 with 1 Axes>"
      ]
     },
     "metadata": {
      "needs_background": "light"
     },
     "output_type": "display_data"
    }
   ],
   "source": [
    "df = get_butterfly_prices(ticker='QQQ', date='2021-01-15', plus_minus=11)\n",
    "df.plot()"
   ]
  },
  {
   "cell_type": "markdown",
   "metadata": {},
   "source": [
    "from $-\\frac{\\partial C_K}{\\partial K}$ = $D_K(t, T) = Z(t, T)\\mathbf{E}[I\\{S_T>K\\} | S_t] = Z(t, T)P(S_T>K)$,\n",
    "- we can see that the price of the digital is the probability of the event suitably discounted\n",
    "- we also see that the derivative of the call price with respect to the strike price equals the discounted probability of the stock being above K\n",
    "- We can reorganize this to get cumulative distribution function (which is $1-P(S_T>K | S_t)$)\n",
    "- CDF: $P(S_T<K) = 1+\\frac{\\partial C_K(t,T)}{\\partial K}\\frac{1}{Z(t,T)}$\n",
    "    - Differentiate the CDF to get the PDF\n",
    "- Let $f_{S_T}(x)$ be the probability density function of random variable $S_T$, the the price of the stock at time $t=T$\n",
    "    - $f_{S_T}(x) = \\frac{\\partial^{2} C_K}{Z(t,T)\\partial K^{2}} |_x$\n",
    "- We now have a linkage between the call price of options and the density of the random variable that is the underlying stock price at $t=T$\n",
    "    - Given the set of call prices for all K, I can then uniquely determine the density of the underlying asset price at time $t=T$\n",
    "        - {$C_K(t,T); \\forall K$} $-> f_{S_T | S_t}(x)$"
   ]
  },
  {
   "cell_type": "markdown",
   "metadata": {},
   "source": [
    "### We went from option prices to probability. Now let's go from probability to option price.\n",
    "\n",
    "FTAP: For a derivative with payout $D(T,T)=g(S_T)$ and price $D(t,T)$ at $t <= T$\n",
    "- $D(T,T)$ here could be the digital payout, the call option payout, it could be 1\n",
    "- The ratio of the price to the zero coupon bond: $\\frac{D(t,T)}{Z(t,T)} = E_*[\\frac{D(T,T)}{Z(T,T)} | S_t]$ so it is a martingale\n",
    "    - This ratio is a martingale with respect to the stock price under the risk-neutral distribution\n",
    "- and remember from before: $D(t,T)=Z(t,T)\\mathbf{E}_x[D(T,T) | S_t]$\n",
    "    - the expected value of a function of a random variable, so we can say the above is equal to:\n",
    "    - $= Z(t,T)\\int g(x)f_{S_T | S_t}(x)dx$ where $g(x)$ is the call option payout\n",
    "    \n",
    "FTAP: We can go from the probability density to the price of a derivative, for any derivative\n",
    "- $f(x) -> D(t,T)\n",
    "\n",
    "So now we can go either way: Density to derivative or call price to density.\n",
    "- But remember we needed the call prices to get the density\n",
    "- to go from the call price to an arbitrary derivative price, just go via the density.\n",
    "\n",
    "In particular, knowledge of all the call prices for all K determines the derivative payout for any $g$\n",
    "- {$C_K(t,T), \\forall K$} determines $D(t,T)$\n",
    "- So if I know all calls, I know the density. And then if I know the density, I know an arbitrary derivative price.\n",
    "    - It's obvious as we stated here. But what this is saying is, the call options often are introduced as this-- why are they important?-- are the spanning set of all derivative prices. Call prices span all derivative prices. And they are a particular type of derivative prices that are determined exactly by their payout at maturity. European derivative prices are determined by calls.\n",
    "    \n",
    "There's two other ways of looking at this. If I think about my function g( ), so it defines the derivative by its payout at maturity. Let's graph it. Assumes it's piecewise linear. The area under the curve is 1. I can also replicate this options by a portfolio of calls, a linear combination of calls. If I can replicate the payout exactly at maturity, the price at time $t$ of this derivative must be the price at $t$ of the replicating portfolio. Since a piecewise linear function can replicate any function, a derivative's payout function can be replicated with call options\n",
    "\n",
    "Let's write down an exact Taylor Series to the second order. For any function with second derivative.\n",
    "- $g(x) = g(0) + xg'(0) + \\int_{0}^{\\inf} (x-c)^{+}g''(c)dc$ where c is my dummy variable. And + max notation. Max between what's inside the parenthesis and zero. Take the dummy variable c which we're integrating over from 0 to infinity and call it K.\n",
    "- $g(x) = g(0) + xg'(0) + \\int_{0}^{\\inf} (x-K)^{+}g''(K)dK$\n",
    "    - $(x-K)^{+}$ now looks like the payout of a call option\n",
    "\n",
    "Remember, if I want to actually get the call price, I take the expected value of this $\\int_{0}^{\\inf} (x-K)^{+}$\n",
    "- I integrate over x with respect to its density. $\\int_{0}^{\\inf} (x-K)^{+}$ is $g$ of a payout function of x\n",
    "- With $g''(K)dK$ I'm integrating over K, so I'm doing something a bit different, but $\\int_{0}^{\\inf} (x-K)^{+}$ is the call option payout.\n",
    "\n",
    "Now replace x with my random variable $S_T$ to get:\n",
    "$g(S_T) = g(0)+S_T g'(0) + \\int_{0}^{\\inf} (S_T-K)^{+}g''(K)dK$\n",
    "\n",
    "Take the discounted expected value of each side. Note that the discounted expected value is the price.\n",
    "\n",
    "$Z(t,T)\\mathbf{E}[\\cdot | S_t]$\n",
    "\n",
    "$D(t,T)$ becomes the price of the derivative with payout of $g(S_T)$ at maturity.\n",
    "- $D(t,T) = g(S_T) = Z(t,T)g(0) + g'(0)S_t + \\int_{0}^{\\inf} C_K(t,T)g''(K)dK$\n",
    "    - $Z(t,T)g(0)$ is a constant\n",
    "    - $S_t$ is the price of the stock at time $t$\n",
    "    - $C_K(t,T)$ is equal to the discounted expected payout of $Z(t,T)E_{*}[\\cdot | S_t]$ with strike $K$\n",
    "    \n",
    "The above equation says explicitly now, how do I replicate an arbitrary derivative product with payout $g(x)$ or $g(S)$ at maturity? The answer is clear. I replicate it by:\n",
    "- $g(0)$ zero-coupon bonds. Just the intercept of $g$.\n",
    "- $g'(0)$ of stock. Just the slope of $g$ at $0$.\n",
    "- and this $\\int_{0}^{\\inf} C_K(t,T)g''(K)dK$ linear combination of calls\n",
    "\n",
    "So this is sort of looking at the duality of option prices and probabilities in different ways. But then also how calls span everything. So the calls, in some sense, are the primitive information. Once I know all call option prices, I know the probability distribution exactly.\n",
    "\n",
    "So there are a couple of sort of interesting further questions you might want to pose. We seem to have done everything here with regard to the distribution at time capital T. And that's true. If I know all the calls, I know the distribution at time capital T. If I know all the calls, I know the price of any options with a payout defined solely by a function at capital T. But I said nothing about the path that takes the stock from today until capital T.\n",
    "\n",
    "Left off at 1:10:00"
   ]
  },
  {
   "cell_type": "code",
   "execution_count": null,
   "metadata": {},
   "outputs": [],
   "source": []
  }
 ],
 "metadata": {
  "kernelspec": {
   "display_name": "Python 3",
   "language": "python",
   "name": "python3"
  },
  "language_info": {
   "codemirror_mode": {
    "name": "ipython",
    "version": 3
   },
   "file_extension": ".py",
   "mimetype": "text/x-python",
   "name": "python",
   "nbconvert_exporter": "python",
   "pygments_lexer": "ipython3",
   "version": "3.7.5"
  }
 },
 "nbformat": 4,
 "nbformat_minor": 4
}
