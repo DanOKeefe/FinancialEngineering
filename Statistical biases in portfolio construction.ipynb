{
 "cells": [
  {
   "cell_type": "markdown",
   "metadata": {},
   "source": [
    "# Statistical biases in portfolio construction\n",
    "\n",
    "## Problems with portfolio construction based on mean-variance analysis\n",
    "- Covariance matrix has N(N+1)/2 independent parameters when you consider N assets\n",
    "    - Hard to get sufficient data to estimate this covariance matrix\n",
    "    - True parameter values may shift over time, making the collection of data over a longer period of time less promising\n",
    "- Stock returns are not normally distributed\n",
    "\n",
    "### Parameter Estimation\n",
    "Let the true return vector be $\\mu$ and the true covariance matrix be $V$.\n",
    "\n",
    "For parameter estimation, use the historical returns of a set of assets: $(r^{(1)}, r^{(2)}, ..., r^{(N)})$ (represented as vectors)\n",
    "- $\\mu^{(\\text{est})} = \\frac{1}{N} \\sum_{t=1}^{N} r^{(t)}$\n",
    "- $V^{(\\text{est})} = \\frac{1}{N-1} \\sum_{t=1}^{N} (r^{(t)} - \\mu^{(\\text{est})})(r^{(t)} - \\mu^{(\\text{est})})^\\top$\n",
    "\n",
    "### Problems with parameter error\n",
    "- Estimated vs true efficient frontier can be very different\n",
    "- Estimated frontiers can vary significantly when using simulated data\n",
    "\n",
    "If we have two assets (A and B) with a mean return of $\\mu$, variance of $\\sigma^2$, and correlation of $\\rho = 0$. Let's say your estimates for these parameters are slightly off.\n",
    "\n",
    "- $\\mu_A^{(\\text{est})} = \\mu + \\epsilon$ (positive error)\n",
    "- $\\mu_B^{(\\text{est})} = \\mu - \\epsilon$ (negative error)\n",
    "\n",
    "The resulting portfolio would weight asset A more than asset B here. If you're allowed to short asset B to buy asset A, the portfolio's performance will be even worse. Singe the performance becomes worse as you allow more leverage, it may be better to not allow leverage. When using this contraint, the realized and estimated frontiers become closer\n",
    "\n",
    "### Robust portfolio selection\n",
    "- Let $S_m$ be the confidence region (an ellipse signifying your confidence for each return in the estimated returns vector\n",
    "- Robust target return constraint: $\\text{min}_{\\mu \\in S_m} {u^{\\top}x} \\geq r$\n",
    "    - Brings down the estimated frontier closer to the realized frontier\n",
    "- Downside is that it is less interpretable\n",
    "\n",
    "### Improving parameter estimation\n",
    "- Shrinkage\n",
    "    - Shrink estimated returns towards the global mean: $\\mu_i^{\\text{(sh)}} = \\alpha \\mu_i^{\\text{(est)}} + (1-\\alpha)(\\frac{1}{d} \\sum_{j=1}^{d} \\mu_j)^{\\text{(est)}}$\n",
    "    - Shrink estimated covariance matrix to the identtiy matrix: $V^{(sh)} = \\alpha V^{\\text{(est)}} + (1-\\alpha)(\\frac{1}{d} \\sum_{i=1}^{d} \\sigma_i^{2})^{\\text{est}}I$\n",
    "- Implementing subjective views with the Black-Litterman method\n",
    "- Non-parametric methods that are similar to nearest-neighbor methods\n",
    "    - Let $r$ denote the currently observed return\n",
    "    - Let $S = {t : ||r-r_t|| \\leq \\beta}$ = times when historical returns were close to r\n",
    "    - Predict that future return belongs to the set ${r_{t+1} : t \\in S}$\n",
    "    - Explanation: Observe the current return r. Go back and find all times $t$ where the return at $t$ is close to the current return. For all those times t, and record the return observed at time $T=t+1$. Use that as a sample of what you expect the return will be at the next timestep\n",
    "- Non-parametric methods are more data-driven. Parametric methods like mean-variance are becoming less popular."
   ]
  },
  {
   "cell_type": "markdown",
   "metadata": {},
   "source": [
    "# How should average returns be computed?\n",
    "Let's say an investment fund has a return of 20% in Year 1 and a return of -10% in year two. The average annual return would be $\\frac{20-10}{2} = 5\\%$. What if the fund had 1M invested in Year 1 and 10M invested in Year 2? The average annual return per dollar invested would be $\\frac{1\\cdot 20\\% - 10\\cdot 10\\%}{11} = -7.27\\%$. Which answer is better? The average return or the dollar-weighted average return? They care about the dollar-weighted average return.\n",
    "\n",
    "Another reason that the dollar-weighted average return may be more important to an investor is because expected returns often decrease when the dollars invested increases. Large buyers often cause the market to move, making the price of securities increase as they're buying a large quantity. And the price of securities decrease when they're selling.\n",
    "\n",
    "Other examples of bad ways (biased estimators) of computing averages include:\n",
    "- Sampling one person every hour for the time it takes to go through an immigration line at the airport.\n",
    "- Sampling family sizes of a population by randomly selecting individuals and recording their family size."
   ]
  },
  {
   "cell_type": "markdown",
   "metadata": {},
   "source": [
    "# Survivorship Bias & Data Snooping\n",
    "### Example of survivorship bias:\n",
    "Consider an equal-weight portfolio of the top 20 stocks in the S&P 500 (selected at time t=T). To estimate performance you conduct the following backtest, you:\n",
    "\n",
    "1.) Use 20 years of daily returns\n",
    "\n",
    "2.) Create the equally weighted portfolio at time t=1 containing the 20 stocks selected at time t=T.\n",
    "\n",
    "3.) Rebalance every month to maintain equal weights (and consider transaction costs)\n",
    "\n",
    "4.) Plot the annual return over time ($r_t$ against $t$)\n",
    "\n",
    "This wouldn't be representative of the future performance (t>T) of the investment. Choose which stocks to invest in by looking into the future (from the perspective of time t=1). There's other cases of survivorship bias in finance that aren't as obvious as this example.\n",
    "\n",
    "Another example is the \"horse racing\" scam. This is where a scam artist sends out predictions in the mail that include all possible winning horses in a horse race. In the following horse race, the scammer continues to mail the people in which he has a perfect track record. This process continues until it seems to a small subset of the original population believe that his predictions are never wrong due to not knowing that the predictions were covering all possible outcomes and were being sent to many others. Then the scammer asks for money to continue sending predictions.\n",
    "\n",
    "### Data Snooping\n",
    "The following is an example of data snooping: You have 4 years of daily returns on a USD-GBP exchange rate. Normalize the entire return data to have mean 0 and variance 1. Use 75% of the data for training and 25% as a test set. You develop a trading strategy with the training set that is very successful on the training set. It uses the previous 20 days of returns to predict if the following day will have a positive or negative return. Why is that? If you take the mean return from the 20 days and find that it is signifcantly greater than 0, that means that the following day will most likely have a return lower than the mean. You know this because of the normalization that you did. In practice, you wouldn't know the mean return because you wouldn't have been able to use future days to calculate this mean. You wouldn't have discovered this in the test set. The test set should be kept seperate from the entire process of finding the trading strategy. We included the test set here when we normalized the data, which was a mistake that introduces bias.\n",
    "\n",
    "\n",
    "### Other examples of statistical biases\n",
    "Good risk management needs to be aware of statistical biases. Here are some examples.\n",
    "- \"The start market has never fallen over any 20-year period\"\n",
    "- How likely is a 25 standard deviation negative return, as observed in August 2007, that many funds reported?\n",
    "- Retail products that are designed to backtest well. Any product that is long Apple will probably backtest well from 2000 onwards.\n",
    "    - Often also exposed to hidden risks like volatility and credit risk. What if you bought a structured note from Lehman Brothers?\n",
    "    - No secondary market to sell many structured products. Can usually only sell to the issuer (bank) and will not get a good price."
   ]
  }
 ],
 "metadata": {
  "kernelspec": {
   "display_name": "Python 3",
   "language": "python",
   "name": "python3"
  },
  "language_info": {
   "codemirror_mode": {
    "name": "ipython",
    "version": 3
   },
   "file_extension": ".py",
   "mimetype": "text/x-python",
   "name": "python",
   "nbconvert_exporter": "python",
   "pygments_lexer": "ipython3",
   "version": "3.7.5"
  }
 },
 "nbformat": 4,
 "nbformat_minor": 4
}
