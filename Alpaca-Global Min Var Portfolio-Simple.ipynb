{
 "cells": [
  {
   "cell_type": "code",
   "execution_count": 1,
   "metadata": {},
   "outputs": [],
   "source": [
    "import alpaca_trade_api as tradeapi\n",
    "import threading\n",
    "import time\n",
    "import datetime\n",
    "# config.py contains my keys\n",
    "from config import *\n",
    "import numpy as np\n",
    "import pandas as pd\n",
    "import edhec_risk_kit as erk\n",
    "import bs4 as bs\n",
    "import pickle\n",
    "import requests\n",
    "import yfinance as yf\n",
    "APCA_API_BASE_URL = \"https://paper-api.alpaca.markets\"\n",
    "%load_ext autoreload\n",
    "%autoreload 2"
   ]
  },
  {
   "cell_type": "markdown",
   "metadata": {},
   "source": [
    "### Get the tickers from the S&P 500"
   ]
  },
  {
   "cell_type": "code",
   "execution_count": 2,
   "metadata": {},
   "outputs": [],
   "source": [
    "sp500_data = pd.read_html('https://en.wikipedia.org/wiki/List_of_S%26P_500_companies')\n",
    "tickers = sp500_data[0]['Ticker Symbol'].tolist()\n",
    "# drop BKR, BRK.B and BF.B\n",
    "# Alpaca doesn't like BKR\n",
    "# Yahoo finance doesn't like BRK.B and BF.B\n",
    "tickers = [x for x in tickers if x != 'BKR']\n",
    "tickers = [x for x in tickers if x != 'BRK.B']\n",
    "tickers = [x for x in tickers if x != 'BF.B']\n",
    "tickers = ' '.join(tickers)"
   ]
  },
  {
   "cell_type": "markdown",
   "metadata": {},
   "source": [
    "### Download stock close price data for 2019"
   ]
  },
  {
   "cell_type": "code",
   "execution_count": 3,
   "metadata": {},
   "outputs": [
    {
     "name": "stdout",
     "output_type": "stream",
     "text": [
      "[*********************100%***********************]  502 of 502 completed\n"
     ]
    }
   ],
   "source": [
    "data = yf.download(tickers, start='2019-01-01', end='2019-12-31')"
   ]
  },
  {
   "cell_type": "markdown",
   "metadata": {},
   "source": [
    "### Calculate daily returns"
   ]
  },
  {
   "cell_type": "code",
   "execution_count": 4,
   "metadata": {},
   "outputs": [],
   "source": [
    "rets = data['Adj Close'].pct_change()\n",
    "# first drop columns where all of the values are NA\n",
    "rets.dropna(axis=1, inplace=True, how='all')\n",
    "# then drop the first row (where all the values are NA)\n",
    "rets.dropna(axis=0, inplace=True, how='all')"
   ]
  },
  {
   "cell_type": "markdown",
   "metadata": {},
   "source": [
    "### Calculate weights of the global minimum variance portfolio"
   ]
  },
  {
   "cell_type": "code",
   "execution_count": null,
   "metadata": {},
   "outputs": [],
   "source": [
    "weights = np.round(erk.gmv(rets.cov()), 5)"
   ]
  },
  {
   "cell_type": "markdown",
   "metadata": {},
   "source": [
    "### Connect to the API & retrieve the amount of cash I have in my paper account"
   ]
  },
  {
   "cell_type": "code",
   "execution_count": null,
   "metadata": {},
   "outputs": [],
   "source": [
    "alpaca = tradeapi.REST(API_KEY, API_SECRET, APCA_API_BASE_URL, 'v2')\n",
    "cash = int(float(alpaca.get_account().cash))"
   ]
  },
  {
   "cell_type": "markdown",
   "metadata": {},
   "source": [
    "### Cancel any existing open orders"
   ]
  },
  {
   "cell_type": "code",
   "execution_count": null,
   "metadata": {},
   "outputs": [],
   "source": [
    "orders = alpaca.list_orders(status='open')\n",
    "for order in orders:\n",
    "    alpaca.cancel_order(order.id)"
   ]
  },
  {
   "cell_type": "markdown",
   "metadata": {},
   "source": [
    "### Calculate the dollar amount I want to buy of each stock"
   ]
  },
  {
   "cell_type": "code",
   "execution_count": null,
   "metadata": {},
   "outputs": [],
   "source": [
    "dollar_amounts = weights*cash"
   ]
  },
  {
   "cell_type": "code",
   "execution_count": null,
   "metadata": {},
   "outputs": [],
   "source": [
    "# function from https://github.com/alpacahq/alpaca-trade-api-python/blob/master/examples/long-short.py\n",
    "# slightly altered\n",
    "def submitOrder(qty, stock, side):\n",
    "    if qty > 0:\n",
    "        try: \n",
    "            alpaca.submit_order(stock, qty, side, 'market', 'day')\n",
    "            print('Submitted order to ' + side + ' ' + str(qty) + ' shares(s) of ' + stock)\n",
    "        except:\n",
    "            print('Order failed to submit: ' + side + ' of ' + str(qty) + ' share(s) of ' + stock)\n",
    "    else:\n",
    "        print('Quantity for ' + stock + ' is zero b/c dollar_amount < share_price')"
   ]
  },
  {
   "cell_type": "markdown",
   "metadata": {},
   "source": [
    "### Calculate quantity of shares of each stock that I'm buying & submit orders"
   ]
  },
  {
   "cell_type": "code",
   "execution_count": null,
   "metadata": {},
   "outputs": [],
   "source": [
    "stocks = list(data['Adj Close'].columns)\n",
    "for stock, amount in zip(stocks, dollar_amounts):\n",
    "    try:\n",
    "        # If the dollar amount that I want to buy of a stock is greater than $1,\n",
    "        # attempt to retrieve the share price & submit an order\n",
    "        if amount > 1:\n",
    "            qty = int(amount//alpaca.get_barset(stock, 'minute', 1)[stock][0].c)\n",
    "            submitOrder(qty, stock, 'buy')\n",
    "    except:\n",
    "        print(\"Couldn't pull stock data for \" + stock + \" from Alpaca\")"
   ]
  }
 ],
 "metadata": {
  "kernelspec": {
   "display_name": "Python 3",
   "language": "python",
   "name": "python3"
  },
  "language_info": {
   "codemirror_mode": {
    "name": "ipython",
    "version": 3
   },
   "file_extension": ".py",
   "mimetype": "text/x-python",
   "name": "python",
   "nbconvert_exporter": "python",
   "pygments_lexer": "ipython3",
   "version": "3.7.5"
  }
 },
 "nbformat": 4,
 "nbformat_minor": 4
}
